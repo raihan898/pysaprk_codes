{
 "cells": [
  {
   "cell_type": "code",
   "execution_count": 1,
   "id": "077dc998-3019-448d-9324-6a9f8f26f0c9",
   "metadata": {},
   "outputs": [],
   "source": [
    "import findspark\n",
    "findspark.init()\n"
   ]
  },
  {
   "cell_type": "code",
   "execution_count": 2,
   "id": "a4aa7885-d179-44d6-b322-7f58dc596923",
   "metadata": {},
   "outputs": [],
   "source": [
    "import pyspark"
   ]
  },
  {
   "cell_type": "code",
   "execution_count": 3,
   "id": "3d71d758-581b-4567-8d95-739a6bb8ae84",
   "metadata": {},
   "outputs": [],
   "source": [
    "from pyspark.sql import SparkSession"
   ]
  },
  {
   "cell_type": "code",
   "execution_count": 4,
   "id": "6417c670-12bc-426c-aabd-33391f865ef1",
   "metadata": {},
   "outputs": [],
   "source": [
    "spark = SparkSession.builder.appName(\"day1_practice\").getOrCreate()"
   ]
  },
  {
   "cell_type": "code",
   "execution_count": 5,
   "id": "2bbbe9b8-2158-42a2-880c-c409011cbd85",
   "metadata": {},
   "outputs": [
    {
     "data": {
      "text/html": [
       "\n",
       "            <div>\n",
       "                <p><b>SparkSession - in-memory</b></p>\n",
       "                \n",
       "        <div>\n",
       "            <p><b>SparkContext</b></p>\n",
       "\n",
       "            <p><a href=\"http://DESKTOP-GEU8OP9:4040\">Spark UI</a></p>\n",
       "\n",
       "            <dl>\n",
       "              <dt>Version</dt>\n",
       "                <dd><code>v3.5.0</code></dd>\n",
       "              <dt>Master</dt>\n",
       "                <dd><code>local[*]</code></dd>\n",
       "              <dt>AppName</dt>\n",
       "                <dd><code>day1_practice</code></dd>\n",
       "            </dl>\n",
       "        </div>\n",
       "        \n",
       "            </div>\n",
       "        "
      ],
      "text/plain": [
       "<pyspark.sql.session.SparkSession at 0x1aa79d66050>"
      ]
     },
     "execution_count": 5,
     "metadata": {},
     "output_type": "execute_result"
    }
   ],
   "source": [
    "spark"
   ]
  },
  {
   "cell_type": "code",
   "execution_count": 6,
   "id": "a9e0f65a-27b8-4f52-9aac-5ab6f44d1b6d",
   "metadata": {},
   "outputs": [],
   "source": [
    "import pandas as pd"
   ]
  },
  {
   "cell_type": "code",
   "execution_count": 7,
   "id": "14ed991f-99b4-44be-aea4-6db12c72c4b9",
   "metadata": {},
   "outputs": [],
   "source": [
    "df = pd.read_excel(r\"C:\\Users\\moham\\Downloads\\Customer Call List.xlsx\", sheet_name=\"Call List\")"
   ]
  },
  {
   "cell_type": "code",
   "execution_count": 8,
   "id": "2be321df-c17e-4a2e-8ef9-f40836b715bc",
   "metadata": {},
   "outputs": [
    {
     "data": {
      "text/html": [
       "<div>\n",
       "<style scoped>\n",
       "    .dataframe tbody tr th:only-of-type {\n",
       "        vertical-align: middle;\n",
       "    }\n",
       "\n",
       "    .dataframe tbody tr th {\n",
       "        vertical-align: top;\n",
       "    }\n",
       "\n",
       "    .dataframe thead th {\n",
       "        text-align: right;\n",
       "    }\n",
       "</style>\n",
       "<table border=\"1\" class=\"dataframe\">\n",
       "  <thead>\n",
       "    <tr style=\"text-align: right;\">\n",
       "      <th></th>\n",
       "      <th>CustomerID</th>\n",
       "      <th>First_Name</th>\n",
       "      <th>Last_Name</th>\n",
       "      <th>Phone_Number</th>\n",
       "      <th>Address</th>\n",
       "      <th>Paying Customer</th>\n",
       "      <th>Do_Not_Contact</th>\n",
       "      <th>Not_Useful_Column</th>\n",
       "    </tr>\n",
       "  </thead>\n",
       "  <tbody>\n",
       "    <tr>\n",
       "      <th>0</th>\n",
       "      <td>1001</td>\n",
       "      <td>Frodo</td>\n",
       "      <td>Baggins</td>\n",
       "      <td>123-545-5421</td>\n",
       "      <td>123 Shire Lane, Shire</td>\n",
       "      <td>Yes</td>\n",
       "      <td>No</td>\n",
       "      <td>True</td>\n",
       "    </tr>\n",
       "    <tr>\n",
       "      <th>1</th>\n",
       "      <td>1002</td>\n",
       "      <td>Abed</td>\n",
       "      <td>Nadir</td>\n",
       "      <td>123/643/9775</td>\n",
       "      <td>93 West Main Street</td>\n",
       "      <td>No</td>\n",
       "      <td>Yes</td>\n",
       "      <td>False</td>\n",
       "    </tr>\n",
       "    <tr>\n",
       "      <th>2</th>\n",
       "      <td>1003</td>\n",
       "      <td>Walter</td>\n",
       "      <td>/White</td>\n",
       "      <td>7066950392</td>\n",
       "      <td>298 Drugs Driveway</td>\n",
       "      <td>N</td>\n",
       "      <td>NaN</td>\n",
       "      <td>True</td>\n",
       "    </tr>\n",
       "    <tr>\n",
       "      <th>3</th>\n",
       "      <td>1004</td>\n",
       "      <td>Dwight</td>\n",
       "      <td>Schrute</td>\n",
       "      <td>123-543-2345</td>\n",
       "      <td>980 Paper Avenue, Pennsylvania, 18503</td>\n",
       "      <td>Yes</td>\n",
       "      <td>Y</td>\n",
       "      <td>True</td>\n",
       "    </tr>\n",
       "    <tr>\n",
       "      <th>4</th>\n",
       "      <td>1005</td>\n",
       "      <td>Jon</td>\n",
       "      <td>Snow</td>\n",
       "      <td>876|678|3469</td>\n",
       "      <td>123 Dragons Road</td>\n",
       "      <td>Y</td>\n",
       "      <td>No</td>\n",
       "      <td>True</td>\n",
       "    </tr>\n",
       "    <tr>\n",
       "      <th>5</th>\n",
       "      <td>1006</td>\n",
       "      <td>Ron</td>\n",
       "      <td>Swanson</td>\n",
       "      <td>304-762-2467</td>\n",
       "      <td>768 City Parkway</td>\n",
       "      <td>Yes</td>\n",
       "      <td>Yes</td>\n",
       "      <td>True</td>\n",
       "    </tr>\n",
       "    <tr>\n",
       "      <th>6</th>\n",
       "      <td>1007</td>\n",
       "      <td>Jeff</td>\n",
       "      <td>Winger</td>\n",
       "      <td>NaN</td>\n",
       "      <td>1209 South Street</td>\n",
       "      <td>No</td>\n",
       "      <td>No</td>\n",
       "      <td>False</td>\n",
       "    </tr>\n",
       "    <tr>\n",
       "      <th>7</th>\n",
       "      <td>1008</td>\n",
       "      <td>Sherlock</td>\n",
       "      <td>Holmes</td>\n",
       "      <td>876|678|3469</td>\n",
       "      <td>98 Clue Drive</td>\n",
       "      <td>N</td>\n",
       "      <td>No</td>\n",
       "      <td>False</td>\n",
       "    </tr>\n",
       "    <tr>\n",
       "      <th>8</th>\n",
       "      <td>1009</td>\n",
       "      <td>Gandalf</td>\n",
       "      <td>NaN</td>\n",
       "      <td>N/a</td>\n",
       "      <td>123 Middle Earth</td>\n",
       "      <td>Yes</td>\n",
       "      <td>NaN</td>\n",
       "      <td>False</td>\n",
       "    </tr>\n",
       "    <tr>\n",
       "      <th>9</th>\n",
       "      <td>1010</td>\n",
       "      <td>Peter</td>\n",
       "      <td>Parker</td>\n",
       "      <td>123-545-5421</td>\n",
       "      <td>25th Main Street, New York</td>\n",
       "      <td>Yes</td>\n",
       "      <td>No</td>\n",
       "      <td>True</td>\n",
       "    </tr>\n",
       "    <tr>\n",
       "      <th>10</th>\n",
       "      <td>1011</td>\n",
       "      <td>Samwise</td>\n",
       "      <td>Gamgee</td>\n",
       "      <td>NaN</td>\n",
       "      <td>612 Shire Lane, Shire</td>\n",
       "      <td>Yes</td>\n",
       "      <td>No</td>\n",
       "      <td>True</td>\n",
       "    </tr>\n",
       "    <tr>\n",
       "      <th>11</th>\n",
       "      <td>1012</td>\n",
       "      <td>Harry</td>\n",
       "      <td>...Potter</td>\n",
       "      <td>7066950392</td>\n",
       "      <td>2394 Hogwarts Avenue</td>\n",
       "      <td>Y</td>\n",
       "      <td>NaN</td>\n",
       "      <td>True</td>\n",
       "    </tr>\n",
       "    <tr>\n",
       "      <th>12</th>\n",
       "      <td>1013</td>\n",
       "      <td>Don</td>\n",
       "      <td>Draper</td>\n",
       "      <td>123-543-2345</td>\n",
       "      <td>2039 Main Street</td>\n",
       "      <td>Yes</td>\n",
       "      <td>N</td>\n",
       "      <td>False</td>\n",
       "    </tr>\n",
       "    <tr>\n",
       "      <th>13</th>\n",
       "      <td>1014</td>\n",
       "      <td>Leslie</td>\n",
       "      <td>Knope</td>\n",
       "      <td>876|678|3469</td>\n",
       "      <td>343 City Parkway</td>\n",
       "      <td>Yes</td>\n",
       "      <td>No</td>\n",
       "      <td>False</td>\n",
       "    </tr>\n",
       "    <tr>\n",
       "      <th>14</th>\n",
       "      <td>1015</td>\n",
       "      <td>Toby</td>\n",
       "      <td>Flenderson_</td>\n",
       "      <td>304-762-2467</td>\n",
       "      <td>214 HR Avenue</td>\n",
       "      <td>N</td>\n",
       "      <td>No</td>\n",
       "      <td>False</td>\n",
       "    </tr>\n",
       "    <tr>\n",
       "      <th>15</th>\n",
       "      <td>1016</td>\n",
       "      <td>Ron</td>\n",
       "      <td>Weasley</td>\n",
       "      <td>123-545-5421</td>\n",
       "      <td>2395 Hogwarts Avenue</td>\n",
       "      <td>No</td>\n",
       "      <td>N</td>\n",
       "      <td>False</td>\n",
       "    </tr>\n",
       "    <tr>\n",
       "      <th>16</th>\n",
       "      <td>1017</td>\n",
       "      <td>Michael</td>\n",
       "      <td>Scott</td>\n",
       "      <td>123/643/9775</td>\n",
       "      <td>121 Paper Avenue, Pennsylvania</td>\n",
       "      <td>Yes</td>\n",
       "      <td>No</td>\n",
       "      <td>False</td>\n",
       "    </tr>\n",
       "    <tr>\n",
       "      <th>17</th>\n",
       "      <td>1018</td>\n",
       "      <td>Clark</td>\n",
       "      <td>Kent</td>\n",
       "      <td>7066950392</td>\n",
       "      <td>3498 Super Lane</td>\n",
       "      <td>Y</td>\n",
       "      <td>NaN</td>\n",
       "      <td>True</td>\n",
       "    </tr>\n",
       "    <tr>\n",
       "      <th>18</th>\n",
       "      <td>1019</td>\n",
       "      <td>Creed</td>\n",
       "      <td>Braton</td>\n",
       "      <td>N/a</td>\n",
       "      <td>N/a</td>\n",
       "      <td>N/a</td>\n",
       "      <td>Yes</td>\n",
       "      <td>True</td>\n",
       "    </tr>\n",
       "    <tr>\n",
       "      <th>19</th>\n",
       "      <td>1020</td>\n",
       "      <td>Anakin</td>\n",
       "      <td>Skywalker</td>\n",
       "      <td>876|678|3469</td>\n",
       "      <td>910 Tatooine Road, Tatooine</td>\n",
       "      <td>Yes</td>\n",
       "      <td>N</td>\n",
       "      <td>True</td>\n",
       "    </tr>\n",
       "    <tr>\n",
       "      <th>20</th>\n",
       "      <td>1020</td>\n",
       "      <td>Anakin</td>\n",
       "      <td>Skywalker</td>\n",
       "      <td>876|678|3469</td>\n",
       "      <td>910 Tatooine Road, Tatooine</td>\n",
       "      <td>Yes</td>\n",
       "      <td>N</td>\n",
       "      <td>True</td>\n",
       "    </tr>\n",
       "  </tbody>\n",
       "</table>\n",
       "</div>"
      ],
      "text/plain": [
       "    CustomerID First_Name    Last_Name  Phone_Number  \\\n",
       "0         1001      Frodo      Baggins  123-545-5421   \n",
       "1         1002       Abed        Nadir  123/643/9775   \n",
       "2         1003     Walter       /White    7066950392   \n",
       "3         1004     Dwight      Schrute  123-543-2345   \n",
       "4         1005        Jon         Snow  876|678|3469   \n",
       "5         1006        Ron      Swanson  304-762-2467   \n",
       "6         1007       Jeff       Winger           NaN   \n",
       "7         1008   Sherlock       Holmes  876|678|3469   \n",
       "8         1009    Gandalf          NaN           N/a   \n",
       "9         1010      Peter       Parker  123-545-5421   \n",
       "10        1011    Samwise       Gamgee           NaN   \n",
       "11        1012      Harry    ...Potter    7066950392   \n",
       "12        1013        Don       Draper  123-543-2345   \n",
       "13        1014     Leslie        Knope  876|678|3469   \n",
       "14        1015       Toby  Flenderson_  304-762-2467   \n",
       "15        1016        Ron      Weasley  123-545-5421   \n",
       "16        1017   Michael         Scott  123/643/9775   \n",
       "17        1018      Clark         Kent    7066950392   \n",
       "18        1019      Creed       Braton           N/a   \n",
       "19        1020     Anakin    Skywalker  876|678|3469   \n",
       "20        1020     Anakin    Skywalker  876|678|3469   \n",
       "\n",
       "                                  Address Paying Customer Do_Not_Contact  \\\n",
       "0                   123 Shire Lane, Shire             Yes             No   \n",
       "1                     93 West Main Street              No            Yes   \n",
       "2                      298 Drugs Driveway               N            NaN   \n",
       "3   980 Paper Avenue, Pennsylvania, 18503             Yes              Y   \n",
       "4                        123 Dragons Road               Y             No   \n",
       "5                        768 City Parkway             Yes            Yes   \n",
       "6                       1209 South Street              No             No   \n",
       "7                           98 Clue Drive               N             No   \n",
       "8                        123 Middle Earth             Yes            NaN   \n",
       "9              25th Main Street, New York             Yes             No   \n",
       "10                  612 Shire Lane, Shire             Yes             No   \n",
       "11                   2394 Hogwarts Avenue               Y            NaN   \n",
       "12                       2039 Main Street             Yes              N   \n",
       "13                       343 City Parkway             Yes             No   \n",
       "14                          214 HR Avenue               N             No   \n",
       "15                   2395 Hogwarts Avenue              No              N   \n",
       "16         121 Paper Avenue, Pennsylvania             Yes             No   \n",
       "17                        3498 Super Lane               Y            NaN   \n",
       "18                                    N/a             N/a            Yes   \n",
       "19            910 Tatooine Road, Tatooine             Yes              N   \n",
       "20            910 Tatooine Road, Tatooine             Yes              N   \n",
       "\n",
       "    Not_Useful_Column  \n",
       "0                True  \n",
       "1               False  \n",
       "2                True  \n",
       "3                True  \n",
       "4                True  \n",
       "5                True  \n",
       "6               False  \n",
       "7               False  \n",
       "8               False  \n",
       "9                True  \n",
       "10               True  \n",
       "11               True  \n",
       "12              False  \n",
       "13              False  \n",
       "14              False  \n",
       "15              False  \n",
       "16              False  \n",
       "17               True  \n",
       "18               True  \n",
       "19               True  \n",
       "20               True  "
      ]
     },
     "execution_count": 8,
     "metadata": {},
     "output_type": "execute_result"
    }
   ],
   "source": [
    "df"
   ]
  },
  {
   "cell_type": "code",
   "execution_count": 9,
   "id": "fb6ed199-3d86-4fab-9072-20e3b368b6fd",
   "metadata": {},
   "outputs": [],
   "source": [
    "# df.to_csv(\"D:\\Jupyter_notebook\\Pyspark_works\\Datasets\\Customer_Call_List.csv\", index=False)"
   ]
  },
  {
   "cell_type": "code",
   "execution_count": 10,
   "id": "d75e02ad-19e1-46c2-a26a-0eef024bf678",
   "metadata": {},
   "outputs": [],
   "source": [
    "df = spark.read.csv(\"D:\\Jupyter_notebook\\Pyspark_works\\Datasets\\Customer_Call_List.csv\", header=True, inferSchema=True)"
   ]
  },
  {
   "cell_type": "code",
   "execution_count": 11,
   "id": "79ad1e1b-b894-4873-bac5-2764f52281d9",
   "metadata": {},
   "outputs": [
    {
     "name": "stdout",
     "output_type": "stream",
     "text": [
      "+----------+----------+-----------+------------+--------------------+---------------+--------------+-----------------+\n",
      "|CustomerID|First_Name|  Last_Name|Phone_Number|             Address|Paying Customer|Do_Not_Contact|Not_Useful_Column|\n",
      "+----------+----------+-----------+------------+--------------------+---------------+--------------+-----------------+\n",
      "|      1001|     Frodo|    Baggins|123-545-5421|123 Shire Lane, S...|            Yes|            No|             true|\n",
      "|      1002|      Abed|      Nadir|123/643/9775| 93 West Main Street|             No|           Yes|            false|\n",
      "|      1003|    Walter|     /White|  7066950392|  298 Drugs Driveway|              N|          NULL|             true|\n",
      "|      1004|    Dwight|    Schrute|123-543-2345|980 Paper Avenue,...|            Yes|             Y|             true|\n",
      "|      1005|       Jon|       Snow|876|678|3469|    123 Dragons Road|              Y|            No|             true|\n",
      "|      1006|       Ron|    Swanson|304-762-2467|    768 City Parkway|            Yes|           Yes|             true|\n",
      "|      1007|      Jeff|     Winger|        NULL|   1209 South Street|             No|            No|            false|\n",
      "|      1008|  Sherlock|     Holmes|876|678|3469|       98 Clue Drive|              N|            No|            false|\n",
      "|      1009|   Gandalf|       NULL|         N/a|    123 Middle Earth|            Yes|          NULL|            false|\n",
      "|      1010|     Peter|     Parker|123-545-5421|25th Main Street,...|            Yes|            No|             true|\n",
      "|      1011|   Samwise|     Gamgee|        NULL|612 Shire Lane, S...|            Yes|            No|             true|\n",
      "|      1012|     Harry|  ...Potter|  7066950392|2394 Hogwarts Avenue|              Y|          NULL|             true|\n",
      "|      1013|       Don|     Draper|123-543-2345|    2039 Main Street|            Yes|             N|            false|\n",
      "|      1014|    Leslie|      Knope|876|678|3469|    343 City Parkway|            Yes|            No|            false|\n",
      "|      1015|      Toby|Flenderson_|304-762-2467|       214 HR Avenue|              N|            No|            false|\n",
      "|      1016|       Ron|    Weasley|123-545-5421|2395 Hogwarts Avenue|             No|             N|            false|\n",
      "|      1017|  Michael |      Scott|123/643/9775|121 Paper Avenue,...|            Yes|            No|            false|\n",
      "|      1018|     Clark|       Kent|  7066950392|     3498 Super Lane|              Y|          NULL|             true|\n",
      "|      1019|     Creed|     Braton|         N/a|                 N/a|            N/a|           Yes|             true|\n",
      "|      1020|    Anakin|  Skywalker|876|678|3469|910 Tatooine Road...|            Yes|             N|             true|\n",
      "|      1020|    Anakin|  Skywalker|876|678|3469|910 Tatooine Road...|            Yes|             N|             true|\n",
      "+----------+----------+-----------+------------+--------------------+---------------+--------------+-----------------+\n",
      "\n"
     ]
    }
   ],
   "source": [
    "df.show(25)"
   ]
  },
  {
   "cell_type": "code",
   "execution_count": 12,
   "id": "afaf2c5a-23b2-4eae-b350-3904db1c387e",
   "metadata": {},
   "outputs": [],
   "source": [
    "df = df.dropDuplicates()\n"
   ]
  },
  {
   "cell_type": "code",
   "execution_count": 13,
   "id": "11e8b4a7-b524-4749-acde-97e5a207fbd6",
   "metadata": {},
   "outputs": [
    {
     "data": {
      "text/plain": [
       "20"
      ]
     },
     "execution_count": 13,
     "metadata": {},
     "output_type": "execute_result"
    }
   ],
   "source": [
    "df.count()"
   ]
  },
  {
   "cell_type": "code",
   "execution_count": 14,
   "id": "822e2a11-7f5f-4c94-9832-dd5ab4716398",
   "metadata": {},
   "outputs": [
    {
     "name": "stdout",
     "output_type": "stream",
     "text": [
      "+----------+----------+-----------+------------+--------------------+---------------+--------------+-----------------+\n",
      "|CustomerID|First_Name|  Last_Name|Phone_Number|             Address|Paying Customer|Do_Not_Contact|Not_Useful_Column|\n",
      "+----------+----------+-----------+------------+--------------------+---------------+--------------+-----------------+\n",
      "|      1016|       Ron|    Weasley|123-545-5421|2395 Hogwarts Avenue|             No|             N|            false|\n",
      "|      1001|     Frodo|    Baggins|123-545-5421|123 Shire Lane, S...|            Yes|            No|             true|\n",
      "|      1002|      Abed|      Nadir|123/643/9775| 93 West Main Street|             No|           Yes|            false|\n",
      "|      1019|     Creed|     Braton|         N/a|                 N/a|            N/a|           Yes|             true|\n",
      "|      1013|       Don|     Draper|123-543-2345|    2039 Main Street|            Yes|             N|            false|\n",
      "|      1004|    Dwight|    Schrute|123-543-2345|980 Paper Avenue,...|            Yes|             Y|             true|\n",
      "|      1006|       Ron|    Swanson|304-762-2467|    768 City Parkway|            Yes|           Yes|             true|\n",
      "|      1020|    Anakin|  Skywalker|876|678|3469|910 Tatooine Road...|            Yes|             N|             true|\n",
      "|      1010|     Peter|     Parker|123-545-5421|25th Main Street,...|            Yes|            No|             true|\n",
      "|      1015|      Toby|Flenderson_|304-762-2467|       214 HR Avenue|              N|            No|            false|\n",
      "|      1005|       Jon|       Snow|876|678|3469|    123 Dragons Road|              Y|            No|             true|\n",
      "|      1017|  Michael |      Scott|123/643/9775|121 Paper Avenue,...|            Yes|            No|            false|\n",
      "|      1008|  Sherlock|     Holmes|876|678|3469|       98 Clue Drive|              N|            No|            false|\n",
      "|      1014|    Leslie|      Knope|876|678|3469|    343 City Parkway|            Yes|            No|            false|\n",
      "|      1012|     Harry|  ...Potter|  7066950392|2394 Hogwarts Avenue|              Y|          NULL|             true|\n",
      "|      1007|      Jeff|     Winger|        NULL|   1209 South Street|             No|            No|            false|\n",
      "|      1003|    Walter|     /White|  7066950392|  298 Drugs Driveway|              N|          NULL|             true|\n",
      "|      1011|   Samwise|     Gamgee|        NULL|612 Shire Lane, S...|            Yes|            No|             true|\n",
      "|      1018|     Clark|       Kent|  7066950392|     3498 Super Lane|              Y|          NULL|             true|\n",
      "|      1009|   Gandalf|       NULL|         N/a|    123 Middle Earth|            Yes|          NULL|            false|\n",
      "+----------+----------+-----------+------------+--------------------+---------------+--------------+-----------------+\n",
      "\n"
     ]
    }
   ],
   "source": [
    "df.show(25)"
   ]
  },
  {
   "cell_type": "code",
   "execution_count": 15,
   "id": "7005b6de-199c-4bbc-af9b-0c3df236a0a9",
   "metadata": {},
   "outputs": [],
   "source": [
    "from pyspark.sql.functions import col"
   ]
  },
  {
   "cell_type": "code",
   "execution_count": 16,
   "id": "e04919bb-8446-44ea-adac-40e0c282fa5d",
   "metadata": {},
   "outputs": [],
   "source": [
    "df = df.select([col(c).alias(c.replace(' ', '_')) for c in df.columns])"
   ]
  },
  {
   "cell_type": "code",
   "execution_count": 17,
   "id": "5b35b9ab-0728-44b5-aacc-1a6794e324c4",
   "metadata": {},
   "outputs": [
    {
     "name": "stdout",
     "output_type": "stream",
     "text": [
      "+----------+----------+-----------+------------+--------------------+---------------+--------------+-----------------+\n",
      "|CustomerID|First_Name|  Last_Name|Phone_Number|             Address|Paying_Customer|Do_Not_Contact|Not_Useful_Column|\n",
      "+----------+----------+-----------+------------+--------------------+---------------+--------------+-----------------+\n",
      "|      1016|       Ron|    Weasley|123-545-5421|2395 Hogwarts Avenue|             No|             N|            false|\n",
      "|      1001|     Frodo|    Baggins|123-545-5421|123 Shire Lane, S...|            Yes|            No|             true|\n",
      "|      1002|      Abed|      Nadir|123/643/9775| 93 West Main Street|             No|           Yes|            false|\n",
      "|      1019|     Creed|     Braton|         N/a|                 N/a|            N/a|           Yes|             true|\n",
      "|      1013|       Don|     Draper|123-543-2345|    2039 Main Street|            Yes|             N|            false|\n",
      "|      1004|    Dwight|    Schrute|123-543-2345|980 Paper Avenue,...|            Yes|             Y|             true|\n",
      "|      1006|       Ron|    Swanson|304-762-2467|    768 City Parkway|            Yes|           Yes|             true|\n",
      "|      1020|    Anakin|  Skywalker|876|678|3469|910 Tatooine Road...|            Yes|             N|             true|\n",
      "|      1010|     Peter|     Parker|123-545-5421|25th Main Street,...|            Yes|            No|             true|\n",
      "|      1015|      Toby|Flenderson_|304-762-2467|       214 HR Avenue|              N|            No|            false|\n",
      "|      1005|       Jon|       Snow|876|678|3469|    123 Dragons Road|              Y|            No|             true|\n",
      "|      1017|  Michael |      Scott|123/643/9775|121 Paper Avenue,...|            Yes|            No|            false|\n",
      "|      1008|  Sherlock|     Holmes|876|678|3469|       98 Clue Drive|              N|            No|            false|\n",
      "|      1014|    Leslie|      Knope|876|678|3469|    343 City Parkway|            Yes|            No|            false|\n",
      "|      1012|     Harry|  ...Potter|  7066950392|2394 Hogwarts Avenue|              Y|          NULL|             true|\n",
      "|      1007|      Jeff|     Winger|        NULL|   1209 South Street|             No|            No|            false|\n",
      "|      1003|    Walter|     /White|  7066950392|  298 Drugs Driveway|              N|          NULL|             true|\n",
      "|      1011|   Samwise|     Gamgee|        NULL|612 Shire Lane, S...|            Yes|            No|             true|\n",
      "|      1018|     Clark|       Kent|  7066950392|     3498 Super Lane|              Y|          NULL|             true|\n",
      "|      1009|   Gandalf|       NULL|         N/a|    123 Middle Earth|            Yes|          NULL|            false|\n",
      "+----------+----------+-----------+------------+--------------------+---------------+--------------+-----------------+\n",
      "\n"
     ]
    }
   ],
   "source": [
    "df.show(25)"
   ]
  },
  {
   "cell_type": "code",
   "execution_count": 18,
   "id": "74977477-416e-48ad-b41f-4b80c0b97114",
   "metadata": {},
   "outputs": [],
   "source": [
    "from pyspark.sql.functions import col, regexp_replace"
   ]
  },
  {
   "cell_type": "code",
   "execution_count": 19,
   "id": "bffafabc-2608-474e-b778-21da4469aba4",
   "metadata": {},
   "outputs": [],
   "source": [
    "df = df.withColumn(\"Phone_Number\", regexp_replace(col(\"Phone_Number\"), \"-\", \"\"))\n",
    "df = df.withColumn(\"Phone_Number\", regexp_replace(col(\"Phone_Number\"), \"/\", \"\"))"
   ]
  },
  {
   "cell_type": "code",
   "execution_count": null,
   "id": "9d8d01ea-7d4a-4a22-896b-0469ce3885a4",
   "metadata": {},
   "outputs": [],
   "source": []
  },
  {
   "cell_type": "code",
   "execution_count": 20,
   "id": "d462c571-a8da-4627-adfa-bb9644d396f0",
   "metadata": {},
   "outputs": [],
   "source": [
    "df = df.withColumn(\"Phone_Number\", regexp_replace(col(\"Phone_Number\"), \"\\\\|\", \"\"))"
   ]
  },
  {
   "cell_type": "code",
   "execution_count": 21,
   "id": "2119665b-bc7a-4e25-86f0-0e64e14725d1",
   "metadata": {},
   "outputs": [
    {
     "name": "stdout",
     "output_type": "stream",
     "text": [
      "+----------+----------+-----------+------------+--------------------+---------------+--------------+-----------------+\n",
      "|CustomerID|First_Name|  Last_Name|Phone_Number|             Address|Paying_Customer|Do_Not_Contact|Not_Useful_Column|\n",
      "+----------+----------+-----------+------------+--------------------+---------------+--------------+-----------------+\n",
      "|      1016|       Ron|    Weasley|  1235455421|2395 Hogwarts Avenue|             No|             N|            false|\n",
      "|      1001|     Frodo|    Baggins|  1235455421|123 Shire Lane, S...|            Yes|            No|             true|\n",
      "|      1002|      Abed|      Nadir|  1236439775| 93 West Main Street|             No|           Yes|            false|\n",
      "|      1019|     Creed|     Braton|          Na|                 N/a|            N/a|           Yes|             true|\n",
      "|      1013|       Don|     Draper|  1235432345|    2039 Main Street|            Yes|             N|            false|\n",
      "|      1004|    Dwight|    Schrute|  1235432345|980 Paper Avenue,...|            Yes|             Y|             true|\n",
      "|      1006|       Ron|    Swanson|  3047622467|    768 City Parkway|            Yes|           Yes|             true|\n",
      "|      1020|    Anakin|  Skywalker|  8766783469|910 Tatooine Road...|            Yes|             N|             true|\n",
      "|      1010|     Peter|     Parker|  1235455421|25th Main Street,...|            Yes|            No|             true|\n",
      "|      1015|      Toby|Flenderson_|  3047622467|       214 HR Avenue|              N|            No|            false|\n",
      "|      1005|       Jon|       Snow|  8766783469|    123 Dragons Road|              Y|            No|             true|\n",
      "|      1017|  Michael |      Scott|  1236439775|121 Paper Avenue,...|            Yes|            No|            false|\n",
      "|      1008|  Sherlock|     Holmes|  8766783469|       98 Clue Drive|              N|            No|            false|\n",
      "|      1014|    Leslie|      Knope|  8766783469|    343 City Parkway|            Yes|            No|            false|\n",
      "|      1012|     Harry|  ...Potter|  7066950392|2394 Hogwarts Avenue|              Y|          NULL|             true|\n",
      "|      1007|      Jeff|     Winger|        NULL|   1209 South Street|             No|            No|            false|\n",
      "|      1003|    Walter|     /White|  7066950392|  298 Drugs Driveway|              N|          NULL|             true|\n",
      "|      1011|   Samwise|     Gamgee|        NULL|612 Shire Lane, S...|            Yes|            No|             true|\n",
      "|      1018|     Clark|       Kent|  7066950392|     3498 Super Lane|              Y|          NULL|             true|\n",
      "|      1009|   Gandalf|       NULL|          Na|    123 Middle Earth|            Yes|          NULL|            false|\n",
      "+----------+----------+-----------+------------+--------------------+---------------+--------------+-----------------+\n",
      "\n"
     ]
    }
   ],
   "source": [
    "df.show(25)"
   ]
  },
  {
   "cell_type": "code",
   "execution_count": 22,
   "id": "d612a4af-9db2-48dc-b50a-99ef56535ea1",
   "metadata": {},
   "outputs": [],
   "source": [
    "from pyspark.sql.functions import col, ltrim, rtrim,when\n"
   ]
  },
  {
   "cell_type": "code",
   "execution_count": 23,
   "id": "e1c8212e-83a1-4fe9-810a-d60361dc895c",
   "metadata": {},
   "outputs": [],
   "source": [
    "df = df.withColumn(\"Last_Name\", regexp_replace(col(\"Last_Name\"), \"^\\\\.*\", \"\"))"
   ]
  },
  {
   "cell_type": "code",
   "execution_count": 24,
   "id": "089ff3c4-5990-4c44-93a9-97320410dbe7",
   "metadata": {},
   "outputs": [],
   "source": [
    "df = df.withColumn(\"Last_Name\", regexp_replace(col(\"Last_Name\"), \"^\\\\-*\", \"\"))\n",
    "df = df.withColumn(\"Last_Name\", regexp_replace(col(\"Last_Name\"), \"^\\\\/*\", \"\"))"
   ]
  },
  {
   "cell_type": "code",
   "execution_count": 25,
   "id": "33b22873-aa10-405b-a755-b6b848bbd42b",
   "metadata": {},
   "outputs": [
    {
     "name": "stdout",
     "output_type": "stream",
     "text": [
      "+----------+----------+-----------+------------+--------------------+---------------+--------------+-----------------+\n",
      "|CustomerID|First_Name|  Last_Name|Phone_Number|             Address|Paying_Customer|Do_Not_Contact|Not_Useful_Column|\n",
      "+----------+----------+-----------+------------+--------------------+---------------+--------------+-----------------+\n",
      "|      1016|       Ron|    Weasley|  1235455421|2395 Hogwarts Avenue|             No|             N|            false|\n",
      "|      1001|     Frodo|    Baggins|  1235455421|123 Shire Lane, S...|            Yes|            No|             true|\n",
      "|      1002|      Abed|      Nadir|  1236439775| 93 West Main Street|             No|           Yes|            false|\n",
      "|      1019|     Creed|     Braton|          Na|                 N/a|            N/a|           Yes|             true|\n",
      "|      1013|       Don|     Draper|  1235432345|    2039 Main Street|            Yes|             N|            false|\n",
      "|      1004|    Dwight|    Schrute|  1235432345|980 Paper Avenue,...|            Yes|             Y|             true|\n",
      "|      1006|       Ron|    Swanson|  3047622467|    768 City Parkway|            Yes|           Yes|             true|\n",
      "|      1020|    Anakin|  Skywalker|  8766783469|910 Tatooine Road...|            Yes|             N|             true|\n",
      "|      1010|     Peter|     Parker|  1235455421|25th Main Street,...|            Yes|            No|             true|\n",
      "|      1015|      Toby|Flenderson_|  3047622467|       214 HR Avenue|              N|            No|            false|\n",
      "|      1005|       Jon|       Snow|  8766783469|    123 Dragons Road|              Y|            No|             true|\n",
      "|      1017|  Michael |      Scott|  1236439775|121 Paper Avenue,...|            Yes|            No|            false|\n",
      "|      1008|  Sherlock|     Holmes|  8766783469|       98 Clue Drive|              N|            No|            false|\n",
      "|      1014|    Leslie|      Knope|  8766783469|    343 City Parkway|            Yes|            No|            false|\n",
      "|      1012|     Harry|     Potter|  7066950392|2394 Hogwarts Avenue|              Y|          NULL|             true|\n",
      "|      1007|      Jeff|     Winger|        NULL|   1209 South Street|             No|            No|            false|\n",
      "|      1003|    Walter|      White|  7066950392|  298 Drugs Driveway|              N|          NULL|             true|\n",
      "|      1011|   Samwise|     Gamgee|        NULL|612 Shire Lane, S...|            Yes|            No|             true|\n",
      "|      1018|     Clark|       Kent|  7066950392|     3498 Super Lane|              Y|          NULL|             true|\n",
      "|      1009|   Gandalf|       NULL|          Na|    123 Middle Earth|            Yes|          NULL|            false|\n",
      "+----------+----------+-----------+------------+--------------------+---------------+--------------+-----------------+\n",
      "\n"
     ]
    }
   ],
   "source": [
    "df.show(25)"
   ]
  },
  {
   "cell_type": "code",
   "execution_count": 26,
   "id": "65cf85f7-bb02-4be1-b214-5fceb0af4d76",
   "metadata": {},
   "outputs": [],
   "source": [
    "df = df.withColumn(\"Paying_Customer\", regexp_replace(col(\"Paying_Customer\"), \"N/a\", \"\"))\n",
    "df = df.withColumn(\"Address\", regexp_replace(col(\"Address\"), \"N/a\", \"\"))\n"
   ]
  },
  {
   "cell_type": "code",
   "execution_count": 27,
   "id": "194a0fd5-556d-43dd-840e-cbf50d4accf0",
   "metadata": {},
   "outputs": [],
   "source": [
    "df = df.withColumn(\"Phone_Number\", regexp_replace(col(\"Phone_Number\"), \"Na\", \"\"))\n"
   ]
  },
  {
   "cell_type": "code",
   "execution_count": 28,
   "id": "acd04aa4-f6f8-4968-a5f8-672c96bfa80d",
   "metadata": {},
   "outputs": [],
   "source": [
    "# df = df.withColumn(\"Phone_Number\", regexp_replace(col(\"Phone_Number\"), \"NULL\", \"\"))  -- this will not works for null values\n",
    "df = df.dropna(subset=[\"Phone_Number\"])\n"
   ]
  },
  {
   "cell_type": "code",
   "execution_count": 29,
   "id": "875bf876-db48-4eb6-87b0-7e8512e95deb",
   "metadata": {},
   "outputs": [],
   "source": [
    "df = df.withColumn(\"Paying_Customer\", when(col(\"Paying_Customer\") == \"Yes\", \"Y\").otherwise(col(\"Paying_Customer\")))\n",
    "df = df.withColumn(\"Paying_Customer\", when(col(\"Paying_Customer\") == \"No\", \"N\").otherwise(col(\"Paying_Customer\")))"
   ]
  },
  {
   "cell_type": "code",
   "execution_count": 30,
   "id": "f975f13f-83a7-4bb7-9427-71c65a3bc129",
   "metadata": {},
   "outputs": [
    {
     "name": "stdout",
     "output_type": "stream",
     "text": [
      "+----------+----------+-----------+------------+--------------------+---------------+--------------+-----------------+\n",
      "|CustomerID|First_Name|  Last_Name|Phone_Number|             Address|Paying_Customer|Do_Not_Contact|Not_Useful_Column|\n",
      "+----------+----------+-----------+------------+--------------------+---------------+--------------+-----------------+\n",
      "|      1016|       Ron|    Weasley|  1235455421|2395 Hogwarts Avenue|              N|             N|            false|\n",
      "|      1001|     Frodo|    Baggins|  1235455421|123 Shire Lane, S...|              Y|            No|             true|\n",
      "|      1002|      Abed|      Nadir|  1236439775| 93 West Main Street|              N|           Yes|            false|\n",
      "|      1019|     Creed|     Braton|            |                    |               |           Yes|             true|\n",
      "|      1013|       Don|     Draper|  1235432345|    2039 Main Street|              Y|             N|            false|\n",
      "|      1004|    Dwight|    Schrute|  1235432345|980 Paper Avenue,...|              Y|             Y|             true|\n",
      "|      1006|       Ron|    Swanson|  3047622467|    768 City Parkway|              Y|           Yes|             true|\n",
      "|      1020|    Anakin|  Skywalker|  8766783469|910 Tatooine Road...|              Y|             N|             true|\n",
      "|      1010|     Peter|     Parker|  1235455421|25th Main Street,...|              Y|            No|             true|\n",
      "|      1015|      Toby|Flenderson_|  3047622467|       214 HR Avenue|              N|            No|            false|\n",
      "|      1005|       Jon|       Snow|  8766783469|    123 Dragons Road|              Y|            No|             true|\n",
      "|      1017|  Michael |      Scott|  1236439775|121 Paper Avenue,...|              Y|            No|            false|\n",
      "|      1008|  Sherlock|     Holmes|  8766783469|       98 Clue Drive|              N|            No|            false|\n",
      "|      1014|    Leslie|      Knope|  8766783469|    343 City Parkway|              Y|            No|            false|\n",
      "|      1012|     Harry|     Potter|  7066950392|2394 Hogwarts Avenue|              Y|          NULL|             true|\n",
      "|      1003|    Walter|      White|  7066950392|  298 Drugs Driveway|              N|          NULL|             true|\n",
      "|      1018|     Clark|       Kent|  7066950392|     3498 Super Lane|              Y|          NULL|             true|\n",
      "|      1009|   Gandalf|       NULL|            |    123 Middle Earth|              Y|          NULL|            false|\n",
      "+----------+----------+-----------+------------+--------------------+---------------+--------------+-----------------+\n",
      "\n"
     ]
    }
   ],
   "source": [
    "df.show(25)"
   ]
  },
  {
   "cell_type": "code",
   "execution_count": 31,
   "id": "d1566335-4d3a-4b46-aa4c-7585ce7616db",
   "metadata": {},
   "outputs": [],
   "source": [
    "df = df.dropna(subset=[\"Do_Not_Contact\"])\n"
   ]
  },
  {
   "cell_type": "code",
   "execution_count": 32,
   "id": "2d643283-748f-407e-89a7-de19feabe8df",
   "metadata": {},
   "outputs": [],
   "source": [
    "\n",
    "\n",
    "df = df.withColumn(\"Do_Not_Contact\", when(col(\"Do_Not_Contact\") == \"Yes\", \"Y\").otherwise(col(\"Paying_Customer\")))\n",
    "df = df.withColumn(\"Do_Not_Contact\", when(col(\"Do_Not_Contact\") == \"No\", \"N\").otherwise(col(\"Paying_Customer\")))"
   ]
  },
  {
   "cell_type": "code",
   "execution_count": 33,
   "id": "ea180580-8060-46f9-8c39-bb2b4c912962",
   "metadata": {},
   "outputs": [],
   "source": [
    "df = df.drop(\"Not_Useful_Column\")"
   ]
  },
  {
   "cell_type": "code",
   "execution_count": 34,
   "id": "d068ab23-0689-43dd-92bf-b3d626e41a8a",
   "metadata": {},
   "outputs": [
    {
     "name": "stdout",
     "output_type": "stream",
     "text": [
      "+----------+----------+-----------+------------+--------------------+---------------+--------------+\n",
      "|CustomerID|First_Name|  Last_Name|Phone_Number|             Address|Paying_Customer|Do_Not_Contact|\n",
      "+----------+----------+-----------+------------+--------------------+---------------+--------------+\n",
      "|      1016|       Ron|    Weasley|  1235455421|2395 Hogwarts Avenue|              N|             N|\n",
      "|      1001|     Frodo|    Baggins|  1235455421|123 Shire Lane, S...|              Y|             Y|\n",
      "|      1002|      Abed|      Nadir|  1236439775| 93 West Main Street|              N|             N|\n",
      "|      1019|     Creed|     Braton|            |                    |               |              |\n",
      "|      1013|       Don|     Draper|  1235432345|    2039 Main Street|              Y|             Y|\n",
      "|      1004|    Dwight|    Schrute|  1235432345|980 Paper Avenue,...|              Y|             Y|\n",
      "|      1006|       Ron|    Swanson|  3047622467|    768 City Parkway|              Y|             Y|\n",
      "|      1020|    Anakin|  Skywalker|  8766783469|910 Tatooine Road...|              Y|             Y|\n",
      "|      1010|     Peter|     Parker|  1235455421|25th Main Street,...|              Y|             Y|\n",
      "|      1015|      Toby|Flenderson_|  3047622467|       214 HR Avenue|              N|             N|\n",
      "|      1005|       Jon|       Snow|  8766783469|    123 Dragons Road|              Y|             Y|\n",
      "|      1017|  Michael |      Scott|  1236439775|121 Paper Avenue,...|              Y|             Y|\n",
      "|      1008|  Sherlock|     Holmes|  8766783469|       98 Clue Drive|              N|             N|\n",
      "|      1014|    Leslie|      Knope|  8766783469|    343 City Parkway|              Y|             Y|\n",
      "+----------+----------+-----------+------------+--------------------+---------------+--------------+\n",
      "\n"
     ]
    }
   ],
   "source": [
    "df.show(25)"
   ]
  },
  {
   "cell_type": "code",
   "execution_count": 35,
   "id": "576973bc-d94d-4892-bcb3-c8fafc5fbb68",
   "metadata": {},
   "outputs": [],
   "source": [
    "# output_path = r\"D:\\Sales_tables_by_Lalit\\union_table\"\n",
    "\n",
    "# # Coalesce the DataFrame into a single partition before saving as CSV\n",
    "# df4.coalesce(1).write.format(\"csv\").option(\"header\", \"true\").mode(\"overwrite\").save(output_path)"
   ]
  },
  {
   "cell_type": "code",
   "execution_count": 36,
   "id": "932897c8-3386-4d2b-b63d-3682c7f367a4",
   "metadata": {},
   "outputs": [
    {
     "ename": "Py4JJavaError",
     "evalue": "An error occurred while calling o139.save.\n: java.lang.UnsatisfiedLinkError: 'boolean org.apache.hadoop.io.nativeio.NativeIO$Windows.access0(java.lang.String, int)'\r\n\tat org.apache.hadoop.io.nativeio.NativeIO$Windows.access0(Native Method)\r\n\tat org.apache.hadoop.io.nativeio.NativeIO$Windows.access(NativeIO.java:793)\r\n\tat org.apache.hadoop.fs.FileUtil.canRead(FileUtil.java:1249)\r\n\tat org.apache.hadoop.fs.FileUtil.list(FileUtil.java:1454)\r\n\tat org.apache.hadoop.fs.RawLocalFileSystem.listStatus(RawLocalFileSystem.java:601)\r\n\tat org.apache.hadoop.fs.FileSystem.listStatus(FileSystem.java:1972)\r\n\tat org.apache.hadoop.fs.FileSystem.listStatus(FileSystem.java:2014)\r\n\tat org.apache.hadoop.fs.ChecksumFileSystem.listStatus(ChecksumFileSystem.java:761)\r\n\tat org.apache.hadoop.fs.FileSystem.listStatus(FileSystem.java:1972)\r\n\tat org.apache.hadoop.fs.FileSystem.listStatus(FileSystem.java:2014)\r\n\tat org.apache.hadoop.mapreduce.lib.output.FileOutputCommitter.getAllCommittedTaskPaths(FileOutputCommitter.java:334)\r\n\tat org.apache.hadoop.mapreduce.lib.output.FileOutputCommitter.commitJobInternal(FileOutputCommitter.java:404)\r\n\tat org.apache.hadoop.mapreduce.lib.output.FileOutputCommitter.commitJob(FileOutputCommitter.java:377)\r\n\tat org.apache.spark.internal.io.HadoopMapReduceCommitProtocol.commitJob(HadoopMapReduceCommitProtocol.scala:192)\r\n\tat org.apache.spark.sql.execution.datasources.FileFormatWriter$.$anonfun$writeAndCommit$3(FileFormatWriter.scala:275)\r\n\tat scala.runtime.java8.JFunction0$mcV$sp.apply(JFunction0$mcV$sp.java:23)\r\n\tat org.apache.spark.util.Utils$.timeTakenMs(Utils.scala:552)\r\n\tat org.apache.spark.sql.execution.datasources.FileFormatWriter$.writeAndCommit(FileFormatWriter.scala:275)\r\n\tat org.apache.spark.sql.execution.datasources.FileFormatWriter$.executeWrite(FileFormatWriter.scala:304)\r\n\tat org.apache.spark.sql.execution.datasources.FileFormatWriter$.write(FileFormatWriter.scala:190)\r\n\tat org.apache.spark.sql.execution.datasources.InsertIntoHadoopFsRelationCommand.run(InsertIntoHadoopFsRelationCommand.scala:190)\r\n\tat org.apache.spark.sql.execution.command.DataWritingCommandExec.sideEffectResult$lzycompute(commands.scala:113)\r\n\tat org.apache.spark.sql.execution.command.DataWritingCommandExec.sideEffectResult(commands.scala:111)\r\n\tat org.apache.spark.sql.execution.command.DataWritingCommandExec.executeCollect(commands.scala:125)\r\n\tat org.apache.spark.sql.execution.adaptive.AdaptiveSparkPlanExec.$anonfun$executeCollect$1(AdaptiveSparkPlanExec.scala:374)\r\n\tat org.apache.spark.sql.execution.adaptive.AdaptiveSparkPlanExec.withFinalPlanUpdate(AdaptiveSparkPlanExec.scala:402)\r\n\tat org.apache.spark.sql.execution.adaptive.AdaptiveSparkPlanExec.executeCollect(AdaptiveSparkPlanExec.scala:374)\r\n\tat org.apache.spark.sql.execution.QueryExecution$$anonfun$eagerlyExecuteCommands$1.$anonfun$applyOrElse$1(QueryExecution.scala:107)\r\n\tat org.apache.spark.sql.execution.SQLExecution$.$anonfun$withNewExecutionId$6(SQLExecution.scala:125)\r\n\tat org.apache.spark.sql.execution.SQLExecution$.withSQLConfPropagated(SQLExecution.scala:201)\r\n\tat org.apache.spark.sql.execution.SQLExecution$.$anonfun$withNewExecutionId$1(SQLExecution.scala:108)\r\n\tat org.apache.spark.sql.SparkSession.withActive(SparkSession.scala:900)\r\n\tat org.apache.spark.sql.execution.SQLExecution$.withNewExecutionId(SQLExecution.scala:66)\r\n\tat org.apache.spark.sql.execution.QueryExecution$$anonfun$eagerlyExecuteCommands$1.applyOrElse(QueryExecution.scala:107)\r\n\tat org.apache.spark.sql.execution.QueryExecution$$anonfun$eagerlyExecuteCommands$1.applyOrElse(QueryExecution.scala:98)\r\n\tat org.apache.spark.sql.catalyst.trees.TreeNode.$anonfun$transformDownWithPruning$1(TreeNode.scala:461)\r\n\tat org.apache.spark.sql.catalyst.trees.CurrentOrigin$.withOrigin(origin.scala:76)\r\n\tat org.apache.spark.sql.catalyst.trees.TreeNode.transformDownWithPruning(TreeNode.scala:461)\r\n\tat org.apache.spark.sql.catalyst.plans.logical.LogicalPlan.org$apache$spark$sql$catalyst$plans$logical$AnalysisHelper$$super$transformDownWithPruning(LogicalPlan.scala:32)\r\n\tat org.apache.spark.sql.catalyst.plans.logical.AnalysisHelper.transformDownWithPruning(AnalysisHelper.scala:267)\r\n\tat org.apache.spark.sql.catalyst.plans.logical.AnalysisHelper.transformDownWithPruning$(AnalysisHelper.scala:263)\r\n\tat org.apache.spark.sql.catalyst.plans.logical.LogicalPlan.transformDownWithPruning(LogicalPlan.scala:32)\r\n\tat org.apache.spark.sql.catalyst.plans.logical.LogicalPlan.transformDownWithPruning(LogicalPlan.scala:32)\r\n\tat org.apache.spark.sql.catalyst.trees.TreeNode.transformDown(TreeNode.scala:437)\r\n\tat org.apache.spark.sql.execution.QueryExecution.eagerlyExecuteCommands(QueryExecution.scala:98)\r\n\tat org.apache.spark.sql.execution.QueryExecution.commandExecuted$lzycompute(QueryExecution.scala:85)\r\n\tat org.apache.spark.sql.execution.QueryExecution.commandExecuted(QueryExecution.scala:83)\r\n\tat org.apache.spark.sql.execution.QueryExecution.assertCommandExecuted(QueryExecution.scala:142)\r\n\tat org.apache.spark.sql.DataFrameWriter.runCommand(DataFrameWriter.scala:859)\r\n\tat org.apache.spark.sql.DataFrameWriter.saveToV1Source(DataFrameWriter.scala:388)\r\n\tat org.apache.spark.sql.DataFrameWriter.saveInternal(DataFrameWriter.scala:361)\r\n\tat org.apache.spark.sql.DataFrameWriter.save(DataFrameWriter.scala:240)\r\n\tat java.base/jdk.internal.reflect.NativeMethodAccessorImpl.invoke0(Native Method)\r\n\tat java.base/jdk.internal.reflect.NativeMethodAccessorImpl.invoke(NativeMethodAccessorImpl.java:75)\r\n\tat java.base/jdk.internal.reflect.DelegatingMethodAccessorImpl.invoke(DelegatingMethodAccessorImpl.java:52)\r\n\tat java.base/java.lang.reflect.Method.invoke(Method.java:580)\r\n\tat py4j.reflection.MethodInvoker.invoke(MethodInvoker.java:244)\r\n\tat py4j.reflection.ReflectionEngine.invoke(ReflectionEngine.java:374)\r\n\tat py4j.Gateway.invoke(Gateway.java:282)\r\n\tat py4j.commands.AbstractCommand.invokeMethod(AbstractCommand.java:132)\r\n\tat py4j.commands.CallCommand.execute(CallCommand.java:79)\r\n\tat py4j.ClientServerConnection.waitForCommands(ClientServerConnection.java:182)\r\n\tat py4j.ClientServerConnection.run(ClientServerConnection.java:106)\r\n\tat java.base/java.lang.Thread.run(Thread.java:1583)\r\n",
     "output_type": "error",
     "traceback": [
      "\u001b[1;31m---------------------------------------------------------------------------\u001b[0m",
      "\u001b[1;31mPy4JJavaError\u001b[0m                             Traceback (most recent call last)",
      "Cell \u001b[1;32mIn[36], line 5\u001b[0m\n\u001b[0;32m      2\u001b[0m output_path \u001b[38;5;241m=\u001b[39m \u001b[38;5;124mr\u001b[39m\u001b[38;5;124m\"\u001b[39m\u001b[38;5;124mD:\u001b[39m\u001b[38;5;124m\\\u001b[39m\u001b[38;5;124mJupyter_notebook\u001b[39m\u001b[38;5;124m\\\u001b[39m\u001b[38;5;124mPyspark_works\u001b[39m\u001b[38;5;124m\\\u001b[39m\u001b[38;5;124mDatasets\u001b[39m\u001b[38;5;124m\\\u001b[39m\u001b[38;5;124mraihan\u001b[39m\u001b[38;5;124m\"\u001b[39m\n\u001b[0;32m      4\u001b[0m \u001b[38;5;66;03m# Coalesce the DataFrame into a single partition before saving as CSV\u001b[39;00m\n\u001b[1;32m----> 5\u001b[0m \u001b[43mdf\u001b[49m\u001b[38;5;241;43m.\u001b[39;49m\u001b[43mcoalesce\u001b[49m\u001b[43m(\u001b[49m\u001b[38;5;241;43m1\u001b[39;49m\u001b[43m)\u001b[49m\u001b[38;5;241;43m.\u001b[39;49m\u001b[43mwrite\u001b[49m\u001b[38;5;241;43m.\u001b[39;49m\u001b[43mformat\u001b[49m\u001b[43m(\u001b[49m\u001b[38;5;124;43m\"\u001b[39;49m\u001b[38;5;124;43mcsv\u001b[39;49m\u001b[38;5;124;43m\"\u001b[39;49m\u001b[43m)\u001b[49m\u001b[38;5;241;43m.\u001b[39;49m\u001b[43moption\u001b[49m\u001b[43m(\u001b[49m\u001b[38;5;124;43m\"\u001b[39;49m\u001b[38;5;124;43mheader\u001b[39;49m\u001b[38;5;124;43m\"\u001b[39;49m\u001b[43m,\u001b[49m\u001b[43m \u001b[49m\u001b[38;5;124;43m\"\u001b[39;49m\u001b[38;5;124;43mtrue\u001b[39;49m\u001b[38;5;124;43m\"\u001b[39;49m\u001b[43m)\u001b[49m\u001b[38;5;241;43m.\u001b[39;49m\u001b[43mmode\u001b[49m\u001b[43m(\u001b[49m\u001b[38;5;124;43m\"\u001b[39;49m\u001b[38;5;124;43moverwrite\u001b[39;49m\u001b[38;5;124;43m\"\u001b[39;49m\u001b[43m)\u001b[49m\u001b[38;5;241;43m.\u001b[39;49m\u001b[43msave\u001b[49m\u001b[43m(\u001b[49m\u001b[43moutput_path\u001b[49m\u001b[43m)\u001b[49m\n",
      "File \u001b[1;32mC:\\bigdata\\Spark3\\python\\pyspark\\sql\\readwriter.py:1463\u001b[0m, in \u001b[0;36mDataFrameWriter.save\u001b[1;34m(self, path, format, mode, partitionBy, **options)\u001b[0m\n\u001b[0;32m   1461\u001b[0m     \u001b[38;5;28mself\u001b[39m\u001b[38;5;241m.\u001b[39m_jwrite\u001b[38;5;241m.\u001b[39msave()\n\u001b[0;32m   1462\u001b[0m \u001b[38;5;28;01melse\u001b[39;00m:\n\u001b[1;32m-> 1463\u001b[0m     \u001b[38;5;28;43mself\u001b[39;49m\u001b[38;5;241;43m.\u001b[39;49m\u001b[43m_jwrite\u001b[49m\u001b[38;5;241;43m.\u001b[39;49m\u001b[43msave\u001b[49m\u001b[43m(\u001b[49m\u001b[43mpath\u001b[49m\u001b[43m)\u001b[49m\n",
      "File \u001b[1;32mC:\\bigdata\\Spark3\\python\\lib\\py4j-0.10.9.7-src.zip\\py4j\\java_gateway.py:1322\u001b[0m, in \u001b[0;36mJavaMember.__call__\u001b[1;34m(self, *args)\u001b[0m\n\u001b[0;32m   1316\u001b[0m command \u001b[38;5;241m=\u001b[39m proto\u001b[38;5;241m.\u001b[39mCALL_COMMAND_NAME \u001b[38;5;241m+\u001b[39m\\\n\u001b[0;32m   1317\u001b[0m     \u001b[38;5;28mself\u001b[39m\u001b[38;5;241m.\u001b[39mcommand_header \u001b[38;5;241m+\u001b[39m\\\n\u001b[0;32m   1318\u001b[0m     args_command \u001b[38;5;241m+\u001b[39m\\\n\u001b[0;32m   1319\u001b[0m     proto\u001b[38;5;241m.\u001b[39mEND_COMMAND_PART\n\u001b[0;32m   1321\u001b[0m answer \u001b[38;5;241m=\u001b[39m \u001b[38;5;28mself\u001b[39m\u001b[38;5;241m.\u001b[39mgateway_client\u001b[38;5;241m.\u001b[39msend_command(command)\n\u001b[1;32m-> 1322\u001b[0m return_value \u001b[38;5;241m=\u001b[39m \u001b[43mget_return_value\u001b[49m\u001b[43m(\u001b[49m\n\u001b[0;32m   1323\u001b[0m \u001b[43m    \u001b[49m\u001b[43manswer\u001b[49m\u001b[43m,\u001b[49m\u001b[43m \u001b[49m\u001b[38;5;28;43mself\u001b[39;49m\u001b[38;5;241;43m.\u001b[39;49m\u001b[43mgateway_client\u001b[49m\u001b[43m,\u001b[49m\u001b[43m \u001b[49m\u001b[38;5;28;43mself\u001b[39;49m\u001b[38;5;241;43m.\u001b[39;49m\u001b[43mtarget_id\u001b[49m\u001b[43m,\u001b[49m\u001b[43m \u001b[49m\u001b[38;5;28;43mself\u001b[39;49m\u001b[38;5;241;43m.\u001b[39;49m\u001b[43mname\u001b[49m\u001b[43m)\u001b[49m\n\u001b[0;32m   1325\u001b[0m \u001b[38;5;28;01mfor\u001b[39;00m temp_arg \u001b[38;5;129;01min\u001b[39;00m temp_args:\n\u001b[0;32m   1326\u001b[0m     \u001b[38;5;28;01mif\u001b[39;00m \u001b[38;5;28mhasattr\u001b[39m(temp_arg, \u001b[38;5;124m\"\u001b[39m\u001b[38;5;124m_detach\u001b[39m\u001b[38;5;124m\"\u001b[39m):\n",
      "File \u001b[1;32mC:\\bigdata\\Spark3\\python\\pyspark\\errors\\exceptions\\captured.py:179\u001b[0m, in \u001b[0;36mcapture_sql_exception.<locals>.deco\u001b[1;34m(*a, **kw)\u001b[0m\n\u001b[0;32m    177\u001b[0m \u001b[38;5;28;01mdef\u001b[39;00m \u001b[38;5;21mdeco\u001b[39m(\u001b[38;5;241m*\u001b[39ma: Any, \u001b[38;5;241m*\u001b[39m\u001b[38;5;241m*\u001b[39mkw: Any) \u001b[38;5;241m-\u001b[39m\u001b[38;5;241m>\u001b[39m Any:\n\u001b[0;32m    178\u001b[0m     \u001b[38;5;28;01mtry\u001b[39;00m:\n\u001b[1;32m--> 179\u001b[0m         \u001b[38;5;28;01mreturn\u001b[39;00m \u001b[43mf\u001b[49m\u001b[43m(\u001b[49m\u001b[38;5;241;43m*\u001b[39;49m\u001b[43ma\u001b[49m\u001b[43m,\u001b[49m\u001b[43m \u001b[49m\u001b[38;5;241;43m*\u001b[39;49m\u001b[38;5;241;43m*\u001b[39;49m\u001b[43mkw\u001b[49m\u001b[43m)\u001b[49m\n\u001b[0;32m    180\u001b[0m     \u001b[38;5;28;01mexcept\u001b[39;00m Py4JJavaError \u001b[38;5;28;01mas\u001b[39;00m e:\n\u001b[0;32m    181\u001b[0m         converted \u001b[38;5;241m=\u001b[39m convert_exception(e\u001b[38;5;241m.\u001b[39mjava_exception)\n",
      "File \u001b[1;32mC:\\bigdata\\Spark3\\python\\lib\\py4j-0.10.9.7-src.zip\\py4j\\protocol.py:326\u001b[0m, in \u001b[0;36mget_return_value\u001b[1;34m(answer, gateway_client, target_id, name)\u001b[0m\n\u001b[0;32m    324\u001b[0m value \u001b[38;5;241m=\u001b[39m OUTPUT_CONVERTER[\u001b[38;5;28mtype\u001b[39m](answer[\u001b[38;5;241m2\u001b[39m:], gateway_client)\n\u001b[0;32m    325\u001b[0m \u001b[38;5;28;01mif\u001b[39;00m answer[\u001b[38;5;241m1\u001b[39m] \u001b[38;5;241m==\u001b[39m REFERENCE_TYPE:\n\u001b[1;32m--> 326\u001b[0m     \u001b[38;5;28;01mraise\u001b[39;00m Py4JJavaError(\n\u001b[0;32m    327\u001b[0m         \u001b[38;5;124m\"\u001b[39m\u001b[38;5;124mAn error occurred while calling \u001b[39m\u001b[38;5;132;01m{0}\u001b[39;00m\u001b[38;5;132;01m{1}\u001b[39;00m\u001b[38;5;132;01m{2}\u001b[39;00m\u001b[38;5;124m.\u001b[39m\u001b[38;5;130;01m\\n\u001b[39;00m\u001b[38;5;124m\"\u001b[39m\u001b[38;5;241m.\u001b[39m\n\u001b[0;32m    328\u001b[0m         \u001b[38;5;28mformat\u001b[39m(target_id, \u001b[38;5;124m\"\u001b[39m\u001b[38;5;124m.\u001b[39m\u001b[38;5;124m\"\u001b[39m, name), value)\n\u001b[0;32m    329\u001b[0m \u001b[38;5;28;01melse\u001b[39;00m:\n\u001b[0;32m    330\u001b[0m     \u001b[38;5;28;01mraise\u001b[39;00m Py4JError(\n\u001b[0;32m    331\u001b[0m         \u001b[38;5;124m\"\u001b[39m\u001b[38;5;124mAn error occurred while calling \u001b[39m\u001b[38;5;132;01m{0}\u001b[39;00m\u001b[38;5;132;01m{1}\u001b[39;00m\u001b[38;5;132;01m{2}\u001b[39;00m\u001b[38;5;124m. Trace:\u001b[39m\u001b[38;5;130;01m\\n\u001b[39;00m\u001b[38;5;132;01m{3}\u001b[39;00m\u001b[38;5;130;01m\\n\u001b[39;00m\u001b[38;5;124m\"\u001b[39m\u001b[38;5;241m.\u001b[39m\n\u001b[0;32m    332\u001b[0m         \u001b[38;5;28mformat\u001b[39m(target_id, \u001b[38;5;124m\"\u001b[39m\u001b[38;5;124m.\u001b[39m\u001b[38;5;124m\"\u001b[39m, name, value))\n",
      "\u001b[1;31mPy4JJavaError\u001b[0m: An error occurred while calling o139.save.\n: java.lang.UnsatisfiedLinkError: 'boolean org.apache.hadoop.io.nativeio.NativeIO$Windows.access0(java.lang.String, int)'\r\n\tat org.apache.hadoop.io.nativeio.NativeIO$Windows.access0(Native Method)\r\n\tat org.apache.hadoop.io.nativeio.NativeIO$Windows.access(NativeIO.java:793)\r\n\tat org.apache.hadoop.fs.FileUtil.canRead(FileUtil.java:1249)\r\n\tat org.apache.hadoop.fs.FileUtil.list(FileUtil.java:1454)\r\n\tat org.apache.hadoop.fs.RawLocalFileSystem.listStatus(RawLocalFileSystem.java:601)\r\n\tat org.apache.hadoop.fs.FileSystem.listStatus(FileSystem.java:1972)\r\n\tat org.apache.hadoop.fs.FileSystem.listStatus(FileSystem.java:2014)\r\n\tat org.apache.hadoop.fs.ChecksumFileSystem.listStatus(ChecksumFileSystem.java:761)\r\n\tat org.apache.hadoop.fs.FileSystem.listStatus(FileSystem.java:1972)\r\n\tat org.apache.hadoop.fs.FileSystem.listStatus(FileSystem.java:2014)\r\n\tat org.apache.hadoop.mapreduce.lib.output.FileOutputCommitter.getAllCommittedTaskPaths(FileOutputCommitter.java:334)\r\n\tat org.apache.hadoop.mapreduce.lib.output.FileOutputCommitter.commitJobInternal(FileOutputCommitter.java:404)\r\n\tat org.apache.hadoop.mapreduce.lib.output.FileOutputCommitter.commitJob(FileOutputCommitter.java:377)\r\n\tat org.apache.spark.internal.io.HadoopMapReduceCommitProtocol.commitJob(HadoopMapReduceCommitProtocol.scala:192)\r\n\tat org.apache.spark.sql.execution.datasources.FileFormatWriter$.$anonfun$writeAndCommit$3(FileFormatWriter.scala:275)\r\n\tat scala.runtime.java8.JFunction0$mcV$sp.apply(JFunction0$mcV$sp.java:23)\r\n\tat org.apache.spark.util.Utils$.timeTakenMs(Utils.scala:552)\r\n\tat org.apache.spark.sql.execution.datasources.FileFormatWriter$.writeAndCommit(FileFormatWriter.scala:275)\r\n\tat org.apache.spark.sql.execution.datasources.FileFormatWriter$.executeWrite(FileFormatWriter.scala:304)\r\n\tat org.apache.spark.sql.execution.datasources.FileFormatWriter$.write(FileFormatWriter.scala:190)\r\n\tat org.apache.spark.sql.execution.datasources.InsertIntoHadoopFsRelationCommand.run(InsertIntoHadoopFsRelationCommand.scala:190)\r\n\tat org.apache.spark.sql.execution.command.DataWritingCommandExec.sideEffectResult$lzycompute(commands.scala:113)\r\n\tat org.apache.spark.sql.execution.command.DataWritingCommandExec.sideEffectResult(commands.scala:111)\r\n\tat org.apache.spark.sql.execution.command.DataWritingCommandExec.executeCollect(commands.scala:125)\r\n\tat org.apache.spark.sql.execution.adaptive.AdaptiveSparkPlanExec.$anonfun$executeCollect$1(AdaptiveSparkPlanExec.scala:374)\r\n\tat org.apache.spark.sql.execution.adaptive.AdaptiveSparkPlanExec.withFinalPlanUpdate(AdaptiveSparkPlanExec.scala:402)\r\n\tat org.apache.spark.sql.execution.adaptive.AdaptiveSparkPlanExec.executeCollect(AdaptiveSparkPlanExec.scala:374)\r\n\tat org.apache.spark.sql.execution.QueryExecution$$anonfun$eagerlyExecuteCommands$1.$anonfun$applyOrElse$1(QueryExecution.scala:107)\r\n\tat org.apache.spark.sql.execution.SQLExecution$.$anonfun$withNewExecutionId$6(SQLExecution.scala:125)\r\n\tat org.apache.spark.sql.execution.SQLExecution$.withSQLConfPropagated(SQLExecution.scala:201)\r\n\tat org.apache.spark.sql.execution.SQLExecution$.$anonfun$withNewExecutionId$1(SQLExecution.scala:108)\r\n\tat org.apache.spark.sql.SparkSession.withActive(SparkSession.scala:900)\r\n\tat org.apache.spark.sql.execution.SQLExecution$.withNewExecutionId(SQLExecution.scala:66)\r\n\tat org.apache.spark.sql.execution.QueryExecution$$anonfun$eagerlyExecuteCommands$1.applyOrElse(QueryExecution.scala:107)\r\n\tat org.apache.spark.sql.execution.QueryExecution$$anonfun$eagerlyExecuteCommands$1.applyOrElse(QueryExecution.scala:98)\r\n\tat org.apache.spark.sql.catalyst.trees.TreeNode.$anonfun$transformDownWithPruning$1(TreeNode.scala:461)\r\n\tat org.apache.spark.sql.catalyst.trees.CurrentOrigin$.withOrigin(origin.scala:76)\r\n\tat org.apache.spark.sql.catalyst.trees.TreeNode.transformDownWithPruning(TreeNode.scala:461)\r\n\tat org.apache.spark.sql.catalyst.plans.logical.LogicalPlan.org$apache$spark$sql$catalyst$plans$logical$AnalysisHelper$$super$transformDownWithPruning(LogicalPlan.scala:32)\r\n\tat org.apache.spark.sql.catalyst.plans.logical.AnalysisHelper.transformDownWithPruning(AnalysisHelper.scala:267)\r\n\tat org.apache.spark.sql.catalyst.plans.logical.AnalysisHelper.transformDownWithPruning$(AnalysisHelper.scala:263)\r\n\tat org.apache.spark.sql.catalyst.plans.logical.LogicalPlan.transformDownWithPruning(LogicalPlan.scala:32)\r\n\tat org.apache.spark.sql.catalyst.plans.logical.LogicalPlan.transformDownWithPruning(LogicalPlan.scala:32)\r\n\tat org.apache.spark.sql.catalyst.trees.TreeNode.transformDown(TreeNode.scala:437)\r\n\tat org.apache.spark.sql.execution.QueryExecution.eagerlyExecuteCommands(QueryExecution.scala:98)\r\n\tat org.apache.spark.sql.execution.QueryExecution.commandExecuted$lzycompute(QueryExecution.scala:85)\r\n\tat org.apache.spark.sql.execution.QueryExecution.commandExecuted(QueryExecution.scala:83)\r\n\tat org.apache.spark.sql.execution.QueryExecution.assertCommandExecuted(QueryExecution.scala:142)\r\n\tat org.apache.spark.sql.DataFrameWriter.runCommand(DataFrameWriter.scala:859)\r\n\tat org.apache.spark.sql.DataFrameWriter.saveToV1Source(DataFrameWriter.scala:388)\r\n\tat org.apache.spark.sql.DataFrameWriter.saveInternal(DataFrameWriter.scala:361)\r\n\tat org.apache.spark.sql.DataFrameWriter.save(DataFrameWriter.scala:240)\r\n\tat java.base/jdk.internal.reflect.NativeMethodAccessorImpl.invoke0(Native Method)\r\n\tat java.base/jdk.internal.reflect.NativeMethodAccessorImpl.invoke(NativeMethodAccessorImpl.java:75)\r\n\tat java.base/jdk.internal.reflect.DelegatingMethodAccessorImpl.invoke(DelegatingMethodAccessorImpl.java:52)\r\n\tat java.base/java.lang.reflect.Method.invoke(Method.java:580)\r\n\tat py4j.reflection.MethodInvoker.invoke(MethodInvoker.java:244)\r\n\tat py4j.reflection.ReflectionEngine.invoke(ReflectionEngine.java:374)\r\n\tat py4j.Gateway.invoke(Gateway.java:282)\r\n\tat py4j.commands.AbstractCommand.invokeMethod(AbstractCommand.java:132)\r\n\tat py4j.commands.CallCommand.execute(CallCommand.java:79)\r\n\tat py4j.ClientServerConnection.waitForCommands(ClientServerConnection.java:182)\r\n\tat py4j.ClientServerConnection.run(ClientServerConnection.java:106)\r\n\tat java.base/java.lang.Thread.run(Thread.java:1583)\r\n"
     ]
    }
   ],
   "source": [
    "# Define the output path with double backslashes or a raw string\n",
    "output_path = r\"D:\\Jupyter_notebook\\Pyspark_works\\Datasets\\raihan\"\n",
    "\n",
    "# Coalesce the DataFrame into a single partition before saving as CSV\n",
    "df.coalesce(1).write.format(\"csv\").option(\"header\", \"true\").mode(\"overwrite\").save(output_path)"
   ]
  },
  {
   "cell_type": "code",
   "execution_count": null,
   "id": "eb0c22e2-dd76-4470-9e27-6c69770b6c17",
   "metadata": {},
   "outputs": [],
   "source": [
    "filtered_df2 = df.filter(df['Phone_Number'] != '')\n",
    "filtered_df2.show()"
   ]
  },
  {
   "cell_type": "code",
   "execution_count": null,
   "id": "aa185d67-b9ac-4f84-aeb1-418251945a2d",
   "metadata": {},
   "outputs": [],
   "source": [
    "filtered_df3 = df.filter(df['Do_Not_Contact'] != 'Y')\n",
    "filtered_df3.show()"
   ]
  },
  {
   "cell_type": "code",
   "execution_count": null,
   "id": "4eee1cb9-6ee6-4f5a-822c-3b215b8b7dd7",
   "metadata": {},
   "outputs": [],
   "source": []
  },
  {
   "cell_type": "code",
   "execution_count": null,
   "id": "100bdece-561f-4cb8-962e-7495ff9cc177",
   "metadata": {},
   "outputs": [],
   "source": []
  },
  {
   "cell_type": "code",
   "execution_count": null,
   "id": "e23858a2-bd38-4405-a933-c012ffc231c8",
   "metadata": {},
   "outputs": [],
   "source": []
  }
 ],
 "metadata": {
  "kernelspec": {
   "display_name": "Python 3 (ipykernel)",
   "language": "python",
   "name": "python3"
  },
  "language_info": {
   "codemirror_mode": {
    "name": "ipython",
    "version": 3
   },
   "file_extension": ".py",
   "mimetype": "text/x-python",
   "name": "python",
   "nbconvert_exporter": "python",
   "pygments_lexer": "ipython3",
   "version": "3.11.7"
  }
 },
 "nbformat": 4,
 "nbformat_minor": 5
}
