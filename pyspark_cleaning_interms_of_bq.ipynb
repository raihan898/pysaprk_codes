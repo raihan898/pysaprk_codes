{
 "cells": [
  {
   "cell_type": "code",
   "execution_count": 1,
   "id": "c822824c-8a68-42da-a04b-27de27db4b47",
   "metadata": {},
   "outputs": [],
   "source": [
    "import findspark\n",
    "findspark.init()"
   ]
  },
  {
   "cell_type": "code",
   "execution_count": 2,
   "id": "0328a477-8c56-4986-acba-8e72d8ab427d",
   "metadata": {},
   "outputs": [],
   "source": [
    "import pyspark"
   ]
  },
  {
   "cell_type": "code",
   "execution_count": 3,
   "id": "9cbe2346-fdcc-4be4-bc4c-0443f42e9c73",
   "metadata": {},
   "outputs": [],
   "source": [
    "from pyspark.sql import SparkSession"
   ]
  },
  {
   "cell_type": "code",
   "execution_count": 4,
   "id": "b9ffbe35-f650-42dd-b84a-bede646c9715",
   "metadata": {},
   "outputs": [],
   "source": [
    "spark = SparkSession.builder.appName(\"clean_data\").getOrCreate()"
   ]
  },
  {
   "cell_type": "code",
   "execution_count": 5,
   "id": "bf614343-de52-421b-96ad-3cdccf371f85",
   "metadata": {},
   "outputs": [],
   "source": [
    "df = spark.read.csv(r\"C:\\Users\\moham\\Downloads\\ar.csv\", header=True, inferSchema=True)"
   ]
  },
  {
   "cell_type": "code",
   "execution_count": 6,
   "id": "f237238c-7c90-4e26-b307-344dfdcfd4fb",
   "metadata": {},
   "outputs": [
    {
     "name": "stdout",
     "output_type": "stream",
     "text": [
      "+----------+---------------+------------------+--------------+----------+----------+------------+--------------------+----------------+------------+----------------------+-----------+----------------+---------------+------+------------+-------------------+---------------+-----------------+-------------------+----------+----------------------+------------------+-----------------+---------------+-------------------+---------------+----------+-----------+--------+---+-----------------------+--------------------+---------------+-----------+-------------+----------------+-----------+--------------+---------------+------------------+-------------+----------------+----------+-------------+--------+-----------+------------+---------------+-------------+----------------+------------+----------------+-----------------+----------+----------------------+-------------------+----------+-----------------+-----------------+---------------+-----------------+-----------------+\n",
      "| Link_Date|    Document_No|PaymentDelayReason|DimensionSetID|TempCLE_No|  Due_Date|DocumentType|  ExternalDocumentNo|PaymentTermsCode|CurrencyCode|OriginalCurrencyFactor|Ship-toName|Remaining_Amount|Original_Amount|CLE_No|LinkCustomer|   CLE_Posting_Date|LinkSalesPerson|AdvanceCollection|CollectionInvoiceNo|TargetDate|ExpectedCollectionDate|PaymentShortReason|NOD_AR_TargetDate|NOD_AR_Due_Date|NOD_AR_Posting_Date|TransactionType|AR_AP_Type|Bucket_Sort|Interval|NOD|Collectable_Bucket_Sort|Collectable_Interval|Collectable_NOD|AdvanceFlag|Link_CUSTOMER|Link_CUSTOMERKey|Link_BRANCH|Link_BRANCHKey|Link_TARGETPROD|Link_TARGETPRODKey|Link_OTBRANCH|Link_OTBRANCHKey|Link_SUBBU|Link_SUBBUKey|Link_SBU|Link_SBUKey|Link_PRODUCT|Link_PRODUCTKey|Link_SALESPER|Link_SALESPERKey|Link_PROJECT| Link_PROJECTKey|         Category|Due/NotDue|DocumentSubmissionDate|            EndDate|     today|  USDExchangeRate|  AUDExchangeRate|EURExchangeRate|  CHFExchangeRate|  GBPExchangeRate|\n",
      "+----------+---------------+------------------+--------------+----------+----------+------------+--------------------+----------------+------------+----------------------+-----------+----------------+---------------+------+------------+-------------------+---------------+-----------------+-------------------+----------+----------------------+------------------+-----------------+---------------+-------------------+---------------+----------+-----------+--------+---+-----------------------+--------------------+---------------+-----------+-------------+----------------+-----------+--------------+---------------+------------------+-------------+----------------+----------+-------------+--------+-----------+------------+---------------+-------------+----------------+------------+----------------+-----------------+----------+----------------------+-------------------+----------+-----------------+-----------------+---------------+-----------------+-----------------+\n",
      "|2022-07-31|GST2021DL-22327|  Retention Amount|        690959|    119817|2021-03-05|           2|ZO:Z065/RC/PO/202...|            NULL|         INR|                   1.0|       NULL|         2399.52|        2399.52|119817|      C24527|2021-02-03 00:00:00|           1074|                0|    GST2021DL-22327|1900-01-01|   2024-07-31 00:00:00|              5195|            44771|            513|                543|      CLE_Entry|        AR|         10|    365+|543|                     10|                365+|        44771.0|         NA|       C24527|   DB1|E1|C24527|         12|     DB1|E1|12|           NULL|              NULL|      SOUTH 3|  DB1|E1|SOUTH 3|     10750| DB1|E1|10750|     100| DB1|E1|100|        NULL|           NULL|         NULL|            NULL|   SCM\\46974|DB1|E1|SCM\\46974|        Retention|   Not Due|   2021-02-05 00:00:00|2023-11-30 00:00:00|2023-11-21|79.31162973131987|55.22463471254951|         80.882|83.00697865353038|96.29955947136564|\n",
      "|2022-07-31|GST2122MH-00555|Payment In Process|        644242|     83396|2021-05-21|           2|IMD NO.020/PHOTOC...|            NULL|         INR|                   1.0|       NULL|           240.0|          240.0| 83396|      C61227|2021-04-21 00:00:00|             NA|                0|    GST2122MH-00555|1900-01-01|   2023-11-22 00:00:00|             12509|            44771|            436|                466|      CLE_Entry|        AR|         10|    365+|466|                     10|                365+|        44771.0|         NA|       C61227|   DB1|E1|C61227|        215|    DB1|E1|215|           NULL|              NULL|          215|      DB1|E1|215|     17100| DB1|E1|17100|     800| DB1|E1|800|        NULL|           NULL|         NULL|            NULL|    IMS-1322| DB1|E1|IMS-1322|   TCPL (Finance)|       Due|   2021-04-21 00:00:00|2023-11-30 00:00:00|2023-11-21|79.31162973131987|55.22463471254951|         80.882|83.00697865353038|96.29955947136564|\n",
      "|2022-07-31|GST2122MH-01541|  Retention Amount|        691298|    120257|2021-05-08|           2|AX1/IT/PLAN2020-2...|            NULL|         INR|                   1.0|       NULL|        31115.07|       31115.07|120257|      C25547|2021-05-05 00:00:00|             NA|                0|    GST2122MH-01541|1900-01-01|   2024-03-29 00:00:00|               945|            44771|            449|                452|      CLE_Entry|        AR|         10|    365+|452|                     10|                365+|        44771.0|         NA|       C25547|   DB1|E1|C25547|        215|    DB1|E1|215|           NULL|              NULL|       WEST 4|   DB1|E1|WEST 4|     10750| DB1|E1|10750|     100| DB1|E1|100|        NULL|           NULL|         NULL|            NULL|   SCM\\47747|DB1|E1|SCM\\47747|        Retention|   Not Due|   2021-05-06 00:00:00|2023-11-30 00:00:00|2023-11-21|79.31162973131987|55.22463471254951|         80.882|83.00697865353038|96.29955947136564|\n",
      "|2022-07-31|GST2122MH-04210|Payment In Process|        676854|     83464|2021-08-07|           2|ERFL|TECH INFRA|2...|            NULL|         INR|                   1.0|       NULL|          2242.0|         2242.0| 83464|      C54420|2021-07-08 00:00:00|             NA|                0|    GST2122MH-04210|1900-01-01|   2023-05-26 00:00:00|             12509|            44771|            358|                388|      CLE_Entry|        AR|         10|    365+|388|                     10|                365+|        44771.0|         NA|       C54420|   DB1|E1|C54420|        215|    DB1|E1|215|           NULL|              NULL|          215|      DB1|E1|215|     17100| DB1|E1|17100|     800| DB1|E1|800|        NULL|           NULL|         NULL|            NULL|    IMS-1193| DB1|E1|IMS-1193|   TCPL (Finance)|       Due|   2021-07-08 00:00:00|2023-11-30 00:00:00|2023-11-21|79.31162973131987|55.22463471254951|         80.882|83.00697865353038|96.29955947136564|\n",
      "|2022-07-31|GST2122MH-12743|Payment In Process|        640462|     83578|2022-01-22|           2|                NULL|            NULL|         INR|                   1.0|       NULL|         36863.0|        36863.0| 83578|      C49700|2021-12-23 00:00:00|             NA|                0|    GST2122MH-12743|1900-01-01|   2023-11-20 00:00:00|              5115|            44771|            190|                220|      CLE_Entry|        AR|          9| 181-365|220|                     10|                365+|        44771.0|         NA|       C49700|   DB1|E1|C49700|        215|    DB1|E1|215|           NULL|              NULL|       WEST 1|   DB1|E1|WEST 1|     11300| DB1|E1|11300|     200| DB1|E1|200|        NULL|           NULL|         NULL|            NULL|   SCM\\66439|DB1|E1|SCM\\66439|   TCPL (Finance)|       Due|   2021-12-24 00:00:00|2023-11-30 00:00:00|2023-11-21|79.31162973131987|55.22463471254951|         80.882|83.00697865353038|96.29955947136564|\n",
      "|2022-07-31|GST2122MH-14685|Payment In Process|        640524|     83608|2022-02-26|           2|          2015212130|            NULL|         INR|                   1.0|       NULL|         12148.0|        12148.0| 83608|      C55741|2022-01-27 00:00:00|             NA|                0|    GST2122MH-14685|1900-01-01|   2023-11-20 00:00:00|             12509|            44771|            155|                185|      CLE_Entry|        AR|          9| 181-365|185|                     10|                365+|        44771.0|         NA|       C55741|   DB1|E1|C55741|        215|    DB1|E1|215|           NULL|              NULL|      NORTH 1|  DB1|E1|NORTH 1|     17100| DB1|E1|17100|     800| DB1|E1|800|        NULL|           NULL|         NULL|            NULL|        NULL|            NULL|   TCPL (Finance)|       Due|                  NULL|2023-11-30 00:00:00|2023-11-21|79.31162973131987|55.22463471254951|         80.882|83.00697865353038|96.29955947136564|\n",
      "|2022-07-31|GST2223DL-04758|Payment In Process|        691469|    120479|2022-06-04|           2|NZJDUREPL2122HW:P...|            NULL|         INR|                   1.0|       NULL|        72379.85|       72379.85|120479|      C44613|2022-06-01 00:00:00|             NA|                0|    GST2223DL-04758|1900-01-01|   2023-11-22 00:00:00|              2389|            44771|             57|                 60|      CLE_Entry|        AR|          5|   31-60| 60|                     10|                365+|        44771.0|         NA|       C44613|   DB1|E1|C44613|         12|     DB1|E1|12|           NULL|              NULL|       WEST 1|   DB1|E1|WEST 1|     10750| DB1|E1|10750|     100| DB1|E1|100|        NULL|           NULL|         NULL|            NULL|   SCM\\72673|DB1|E1|SCM\\72673|   TCPL (Finance)|       Due|   2022-06-09 00:00:00|2023-11-30 00:00:00|2023-11-21|79.31162973131987|55.22463471254951|         80.882|83.00697865353038|96.29955947136564|\n",
      "|2022-07-31|GST2223DL-04875|Payment In Process|        691505|    120567|2022-06-05|           2|NZLDHREPL2223HW:P...|            NULL|         INR|                   1.0|       NULL|         3884.98|        3884.98|120567|      C45811|2022-06-02 00:00:00|             NA|                0|    GST2223DL-04875|1900-01-01|   2023-11-20 00:00:00|              2389|            44771|             56|                 59|      CLE_Entry|        AR|          5|   31-60| 59|                     10|                365+|        44771.0|         NA|       C45811|   DB1|E1|C45811|         12|     DB1|E1|12|           NULL|              NULL|       WEST 1|   DB1|E1|WEST 1|     10750| DB1|E1|10750|     100| DB1|E1|100|        NULL|           NULL|         NULL|            NULL|   SCM\\73268|DB1|E1|SCM\\73268|   TCPL (Finance)|       Due|   2022-06-08 00:00:00|2023-11-30 00:00:00|2023-11-21|79.31162973131987|55.22463471254951|         80.882|83.00697865353038|96.29955947136564|\n",
      "|2022-07-31|GST2223DL-04953|Payment In Process|        691526|    120653|2022-06-05|           2|NZDLI-IIREPL2223H...|            NULL|         INR|                   1.0|       NULL|         1475.14|        1475.14|120653|      C49989|2022-06-02 00:00:00|             NA|                0|    GST2223DL-04953|1900-01-01|   2023-11-22 00:00:00|              2389|            44771|             56|                 59|      CLE_Entry|        AR|          5|   31-60| 59|                     10|                365+|        44771.0|         NA|       C49989|   DB1|E1|C49989|         12|     DB1|E1|12|           NULL|              NULL|       WEST 1|   DB1|E1|WEST 1|     10750| DB1|E1|10750|     100| DB1|E1|100|        NULL|           NULL|         NULL|            NULL|   SCM\\72973|DB1|E1|SCM\\72973|   TCPL (Finance)|       Due|   2022-06-13 00:00:00|2023-11-30 00:00:00|2023-11-21|79.31162973131987|55.22463471254951|         80.882|83.00697865353038|96.29955947136564|\n",
      "|2022-07-31|GST2223DL-06260|Payment In Process|        691615|    120869|2022-06-19|           2|NCZBSBREPL2223HW:...|            NULL|         INR|                   1.0|       NULL|        10660.31|       10660.31|120869|      C43726|2022-06-16 00:00:00|             NA|                0|    GST2223DL-06260|1900-01-01|   2023-11-20 00:00:00|              2389|            44771|             42|                 45|      CLE_Entry|        AR|          5|   31-60| 45|                     10|                365+|        44771.0|         NA|       C43726|   DB1|E1|C43726|         12|     DB1|E1|12|           NULL|              NULL|       WEST 1|   DB1|E1|WEST 1|     10750| DB1|E1|10750|     100| DB1|E1|100|        NULL|           NULL|         NULL|            NULL|   SCM\\73617|DB1|E1|SCM\\73617|   TCPL (Finance)|       Due|   2022-06-24 00:00:00|2023-11-30 00:00:00|2023-11-21|79.31162973131987|55.22463471254951|         80.882|83.00697865353038|96.29955947136564|\n",
      "|2022-07-31|GST2223DL-09191|Payment In Process|        691722|    121091|2022-07-21|           2|NZDLI-IREPL2122HW...|            NULL|         INR|                   1.0|       NULL|         1111.41|        1111.41|121091|      C25722|2022-07-18 00:00:00|             NA|                0|    GST2223DL-09191|1900-01-01|   2023-11-20 00:00:00|              2389|            44771|             10|                 13|      CLE_Entry|        AR|          3|    8-15| 13|                     10|                365+|        44771.0|         NA|       C25722|   DB1|E1|C25722|         12|     DB1|E1|12|           NULL|              NULL|       WEST 1|   DB1|E1|WEST 1|     10750| DB1|E1|10750|     100| DB1|E1|100|        NULL|           NULL|         NULL|            NULL|   SCM\\72862|DB1|E1|SCM\\72862|   TCPL (Finance)|       Due|   2022-07-22 00:00:00|2023-11-30 00:00:00|2023-11-21|79.31162973131987|55.22463471254951|         80.882|83.00697865353038|96.29955947136564|\n",
      "|2022-07-31|GST2223DL-10628|Payment In Process|        676822|    121155|2022-08-28|           2|     PO2122DCPL00050|            NULL|         INR|                   1.0|       NULL|         77772.0|        77772.0|121155|      C00780|2022-07-29 00:00:00|             NA|                0|    GST2223DL-10628|1900-01-01|   2023-09-05 00:00:00|              5063|            44771|            -28|                  2|      CLE_Entry|        AR|          2|     0-7|  2|                     10|                365+|        44771.0|         NA|       C00780|   DB1|E1|C00780|         12|     DB1|E1|12|           NULL|              NULL|      NORTH 3|  DB1|E1|NORTH 3|     11150| DB1|E1|11150|     200| DB1|E1|200|        NULL|           NULL|         NULL|            NULL|   SCM\\62259|DB1|E1|SCM\\62259|   TCPL (Finance)|   Not Due|   2022-07-29 00:00:00|2023-11-30 00:00:00|2023-11-21|79.31162973131987|55.22463471254951|         80.882|83.00697865353038|96.29955947136564|\n",
      "|2022-07-31|GST2223GJ-00327|Payment In Process|        693520|    123943|2022-06-23|           2|WZAHDREPL2223HW:P...|            NULL|         INR|                   1.0|       NULL|         2296.46|        2296.46|123943|      C49722|2022-06-20 00:00:00|           4971|                0|    GST2223GJ-00327|1900-01-01|   2023-11-22 00:00:00|              2389|            44771|             38|                 41|      CLE_Entry|        AR|          5|   31-60| 41|                     10|                365+|        44771.0|         NA|       C49722|   DB1|E1|C49722|        240|    DB1|E1|240|           NULL|              NULL|       WEST 1|   DB1|E1|WEST 1|     10750| DB1|E1|10750|     100| DB1|E1|100|        NULL|           NULL|         NULL|            NULL|   SCM\\74221|DB1|E1|SCM\\74221|   TCPL (Finance)|       Due|   2022-06-22 00:00:00|2023-11-30 00:00:00|2023-11-21|79.31162973131987|55.22463471254951|         80.882|83.00697865353038|96.29955947136564|\n",
      "|2022-07-31|GST2223GJ-00375|Payment In Process|        693524|    124035|2022-06-27|           2|WZGNRREPL2223HW:P...|            NULL|         INR|                   1.0|       NULL|         1474.67|        1474.67|124035|      C49722|2022-06-24 00:00:00|           4971|                0|    GST2223GJ-00375|1900-01-01|   2023-11-22 00:00:00|              2389|            44771|             34|                 37|      CLE_Entry|        AR|          5|   31-60| 37|                     10|                365+|        44771.0|         NA|       C49722|   DB1|E1|C49722|        240|    DB1|E1|240|           NULL|              NULL|       WEST 1|   DB1|E1|WEST 1|     10750| DB1|E1|10750|     100| DB1|E1|100|        NULL|           NULL|         NULL|            NULL|   SCM\\74348|DB1|E1|SCM\\74348|   TCPL (Finance)|       Due|   2022-07-02 00:00:00|2023-11-30 00:00:00|2023-11-21|79.31162973131987|55.22463471254951|         80.882|83.00697865353038|96.29955947136564|\n",
      "|2022-07-31|GST2223MH-04115|   Buyback Pending|        694346|    126043|2022-06-20|           2|WZNEDREPL2223HW:P...|            NULL|         INR|                   1.0|       NULL|          799.81|         799.81|126043|      C49722|2022-06-17 00:00:00|           4971|                0|    GST2223MH-04115|1900-01-01|   2023-05-26 00:00:00|              2389|            44771|             41|                 44|      CLE_Entry|        AR|          5|   31-60| 44|                     10|                365+|        44771.0|         NA|       C49722|   DB1|E1|C49722|        215|    DB1|E1|215|           NULL|              NULL|       WEST 1|   DB1|E1|WEST 1|     10750| DB1|E1|10750|     100| DB1|E1|100|        NULL|           NULL|         NULL|            NULL|   SCM\\73600|DB1|E1|SCM\\73600|TCPL (Operations)|       Due|   2022-06-27 00:00:00|2023-11-30 00:00:00|2023-11-21|79.31162973131987|55.22463471254951|         80.882|83.00697865353038|96.29955947136564|\n",
      "|2022-07-31|GST2223MH-05885|Payment In Process|        694361|    126077|2022-08-22|           2|COCOBOARDREPL2223...|            NULL|         INR|                   1.0|       NULL|          2809.3|         2809.3|126077|      C25715|2022-07-23 00:00:00|             NA|                0|    GST2223MH-05885|1900-01-01|   2023-11-22 00:00:00|              2389|            44771|            -22|                  8|      CLE_Entry|        AR|          3|    8-15|  8|                     10|                365+|        44771.0|         NA|       C25715|   DB1|E1|C25715|        215|    DB1|E1|215|           NULL|              NULL|       WEST 1|   DB1|E1|WEST 1|     10750| DB1|E1|10750|     100| DB1|E1|100|        NULL|           NULL|         NULL|            NULL|   SCM\\73828|DB1|E1|SCM\\73828|   TCPL (Finance)|   Not Due|   2022-07-25 00:00:00|2023-11-30 00:00:00|2023-11-21|79.31162973131987|55.22463471254951|         80.882|83.00697865353038|96.29955947136564|\n",
      "|2022-07-31|SCR-MUM2122-576|              NULL|        698548|    130316|2022-02-07|           3|     GST2122MH-10173|            NULL|         USD|  0.013594344827882531|       NULL|     -2527514.23|       -34359.9|130316|      C50601|2022-02-07 00:00:00|             NA|                0|               NULL|      NULL|                  NULL|              NULL|               -1|            174|                174|      CLE_Entry| Adv/UnAdj|          8| 121-180|174|                      1|             Not Due|           -1.0|         NA|       C50601|   DB1|E1|C50601|        215|    DB1|E1|215|           NULL|              NULL|       WEST 1|   DB1|E1|WEST 1|     11300| DB1|E1|11300|     200| DB1|E1|200|        NULL|           NULL|         NULL|            NULL|   SCM\\59756|DB1|E1|SCM\\59756|             NULL|       Due|                  NULL|2023-11-30 00:00:00|2023-11-21|79.31162973131987|55.22463471254951|         80.882|83.00697865353038|96.29955947136564|\n",
      "|2022-07-31| GST2223MP-0023|Payment In Process|        695312|    127407|2022-06-19|           2|CZBPLREPL2223HW:P...|            NULL|         INR|                   1.0|       NULL|        89036.17|       89036.17|127407|      C42798|2022-06-16 00:00:00|             NA|                0|     GST2223MP-0023|1900-01-01|   2023-11-22 00:00:00|              2389|            44771|             42|                 45|      CLE_Entry|        AR|          5|   31-60| 45|                     10|                365+|        44771.0|         NA|       C42798|   DB1|E1|C42798|        155|    DB1|E1|155|           NULL|              NULL|       WEST 1|   DB1|E1|WEST 1|     10750| DB1|E1|10750|     100| DB1|E1|100|        NULL|           NULL|         NULL|            NULL|   SCM\\73702|DB1|E1|SCM\\73702|   TCPL (Finance)|       Due|   2022-06-20 00:00:00|2023-11-30 00:00:00|2023-11-21|79.31162973131987|55.22463471254951|         80.882|83.00697865353038|96.29955947136564|\n",
      "|2022-07-31| GST2223MP-0030|   Buyback Pending|        695334|    127421|2022-06-19|           2|CZGWLREPL2223HW:P...|            NULL|         INR|                   1.0|       NULL|         5739.85|        5739.85|127421|      C42840|2022-06-16 00:00:00|             NA|                0|     GST2223MP-0030|1900-01-01|   2023-05-25 00:00:00|              2389|            44771|             42|                 45|      CLE_Entry|        AR|          5|   31-60| 45|                     10|                365+|        44771.0|         NA|       C42840|   DB1|E1|C42840|        155|    DB1|E1|155|           NULL|              NULL|       WEST 1|   DB1|E1|WEST 1|     10750| DB1|E1|10750|     100| DB1|E1|100|        NULL|           NULL|         NULL|            NULL|   SCM\\73707|DB1|E1|SCM\\73707|TCPL (Operations)|       Due|   2022-06-28 00:00:00|2023-11-30 00:00:00|2023-11-21|79.31162973131987|55.22463471254951|         80.882|83.00697865353038|96.29955947136564|\n",
      "|2022-07-31| HDFC2122B-0104|              NULL|        671898|    112300|2021-05-05|           1|                 EFT|            NULL|         INR|                   1.0|       NULL|         -5310.0|        -5310.0|112300|      C54020|2021-05-05 00:00:00|             NA|                1|               NULL|      NULL|                  NULL|              NULL|               -1|            452|                452|      CLE_Entry| Adv/UnAdj|         10|    365+|452|                      1|             Not Due|           -1.0|    Advance|       C54020|   DB1|E1|C54020|         12|     DB1|E1|12|           NULL|              NULL|           12|       DB1|E1|12|     12300| DB1|E1|12300|     300| DB1|E1|300|        NULL|           NULL|         NULL|            NULL|        NULL|            NULL|             NULL|       Due|                  NULL|2023-11-30 00:00:00|2023-11-21|79.31162973131987|55.22463471254951|         80.882|83.00697865353038|96.29955947136564|\n",
      "+----------+---------------+------------------+--------------+----------+----------+------------+--------------------+----------------+------------+----------------------+-----------+----------------+---------------+------+------------+-------------------+---------------+-----------------+-------------------+----------+----------------------+------------------+-----------------+---------------+-------------------+---------------+----------+-----------+--------+---+-----------------------+--------------------+---------------+-----------+-------------+----------------+-----------+--------------+---------------+------------------+-------------+----------------+----------+-------------+--------+-----------+------------+---------------+-------------+----------------+------------+----------------+-----------------+----------+----------------------+-------------------+----------+-----------------+-----------------+---------------+-----------------+-----------------+\n",
      "only showing top 20 rows\n",
      "\n"
     ]
    }
   ],
   "source": [
    "df.show()"
   ]
  },
  {
   "cell_type": "code",
   "execution_count": 7,
   "id": "6ce5e918-721e-4a5b-a1f4-80bcc939d517",
   "metadata": {},
   "outputs": [
    {
     "name": "stdout",
     "output_type": "stream",
     "text": [
      "root\n",
      " |-- Link_Date: date (nullable = true)\n",
      " |-- Document_No: string (nullable = true)\n",
      " |-- PaymentDelayReason: string (nullable = true)\n",
      " |-- DimensionSetID: integer (nullable = true)\n",
      " |-- TempCLE_No: integer (nullable = true)\n",
      " |-- Due_Date: date (nullable = true)\n",
      " |-- DocumentType: integer (nullable = true)\n",
      " |-- ExternalDocumentNo: string (nullable = true)\n",
      " |-- PaymentTermsCode: string (nullable = true)\n",
      " |-- CurrencyCode: string (nullable = true)\n",
      " |-- OriginalCurrencyFactor: double (nullable = true)\n",
      " |-- Ship-toName: string (nullable = true)\n",
      " |-- Remaining_Amount: double (nullable = true)\n",
      " |-- Original_Amount: double (nullable = true)\n",
      " |-- CLE_No: integer (nullable = true)\n",
      " |-- LinkCustomer: string (nullable = true)\n",
      " |-- CLE_Posting_Date: timestamp (nullable = true)\n",
      " |-- LinkSalesPerson: string (nullable = true)\n",
      " |-- AdvanceCollection: integer (nullable = true)\n",
      " |-- CollectionInvoiceNo: string (nullable = true)\n",
      " |-- TargetDate: string (nullable = true)\n",
      " |-- ExpectedCollectionDate: string (nullable = true)\n",
      " |-- PaymentShortReason: string (nullable = true)\n",
      " |-- NOD_AR_TargetDate: integer (nullable = true)\n",
      " |-- NOD_AR_Due_Date: integer (nullable = true)\n",
      " |-- NOD_AR_Posting_Date: integer (nullable = true)\n",
      " |-- TransactionType: string (nullable = true)\n",
      " |-- AR_AP_Type: string (nullable = true)\n",
      " |-- Bucket_Sort: integer (nullable = true)\n",
      " |-- Interval: string (nullable = true)\n",
      " |-- NOD: integer (nullable = true)\n",
      " |-- Collectable_Bucket_Sort: integer (nullable = true)\n",
      " |-- Collectable_Interval: string (nullable = true)\n",
      " |-- Collectable_NOD: double (nullable = true)\n",
      " |-- AdvanceFlag: string (nullable = true)\n",
      " |-- Link_CUSTOMER: string (nullable = true)\n",
      " |-- Link_CUSTOMERKey: string (nullable = true)\n",
      " |-- Link_BRANCH: string (nullable = true)\n",
      " |-- Link_BRANCHKey: string (nullable = true)\n",
      " |-- Link_TARGETPROD: string (nullable = true)\n",
      " |-- Link_TARGETPRODKey: string (nullable = true)\n",
      " |-- Link_OTBRANCH: string (nullable = true)\n",
      " |-- Link_OTBRANCHKey: string (nullable = true)\n",
      " |-- Link_SUBBU: integer (nullable = true)\n",
      " |-- Link_SUBBUKey: string (nullable = true)\n",
      " |-- Link_SBU: integer (nullable = true)\n",
      " |-- Link_SBUKey: string (nullable = true)\n",
      " |-- Link_PRODUCT: string (nullable = true)\n",
      " |-- Link_PRODUCTKey: string (nullable = true)\n",
      " |-- Link_SALESPER: string (nullable = true)\n",
      " |-- Link_SALESPERKey: string (nullable = true)\n",
      " |-- Link_PROJECT: string (nullable = true)\n",
      " |-- Link_PROJECTKey: string (nullable = true)\n",
      " |-- Category: string (nullable = true)\n",
      " |-- Due/NotDue: string (nullable = true)\n",
      " |-- DocumentSubmissionDate: string (nullable = true)\n",
      " |-- EndDate: timestamp (nullable = true)\n",
      " |-- today: date (nullable = true)\n",
      " |-- USDExchangeRate: double (nullable = true)\n",
      " |-- AUDExchangeRate: double (nullable = true)\n",
      " |-- EURExchangeRate: double (nullable = true)\n",
      " |-- CHFExchangeRate: double (nullable = true)\n",
      " |-- GBPExchangeRate: double (nullable = true)\n",
      "\n"
     ]
    }
   ],
   "source": [
    "df.printSchema()"
   ]
  },
  {
   "cell_type": "code",
   "execution_count": 8,
   "id": "115a780b-d110-4a3b-b504-3324613274e7",
   "metadata": {},
   "outputs": [],
   "source": [
    "from pyspark.sql.functions import *"
   ]
  },
  {
   "cell_type": "code",
   "execution_count": 9,
   "id": "bb0f8902-3492-45c0-9da9-44a062f14c43",
   "metadata": {},
   "outputs": [],
   "source": [
    "df = df.select([col(c).alias(c.replace(' ', '_')) for c in df.columns])"
   ]
  },
  {
   "cell_type": "code",
   "execution_count": 10,
   "id": "62f5c3ae-119b-46ae-bb42-1fd202b0ba5a",
   "metadata": {},
   "outputs": [],
   "source": [
    "df = df.select([col(c).alias(c.replace('/', '_')) for c in df.columns])"
   ]
  },
  {
   "cell_type": "code",
   "execution_count": 11,
   "id": "2e84b19b-09d3-41a1-a4e6-2c78c91772ed",
   "metadata": {},
   "outputs": [
    {
     "data": {
      "text/plain": [
       "['Link_Date',\n",
       " 'Document_No',\n",
       " 'PaymentDelayReason',\n",
       " 'DimensionSetID',\n",
       " 'TempCLE_No',\n",
       " 'Due_Date',\n",
       " 'DocumentType',\n",
       " 'ExternalDocumentNo',\n",
       " 'PaymentTermsCode',\n",
       " 'CurrencyCode',\n",
       " 'OriginalCurrencyFactor',\n",
       " 'Ship-toName',\n",
       " 'Remaining_Amount',\n",
       " 'Original_Amount',\n",
       " 'CLE_No',\n",
       " 'LinkCustomer',\n",
       " 'CLE_Posting_Date',\n",
       " 'LinkSalesPerson',\n",
       " 'AdvanceCollection',\n",
       " 'CollectionInvoiceNo',\n",
       " 'TargetDate',\n",
       " 'ExpectedCollectionDate',\n",
       " 'PaymentShortReason',\n",
       " 'NOD_AR_TargetDate',\n",
       " 'NOD_AR_Due_Date',\n",
       " 'NOD_AR_Posting_Date',\n",
       " 'TransactionType',\n",
       " 'AR_AP_Type',\n",
       " 'Bucket_Sort',\n",
       " 'Interval',\n",
       " 'NOD',\n",
       " 'Collectable_Bucket_Sort',\n",
       " 'Collectable_Interval',\n",
       " 'Collectable_NOD',\n",
       " 'AdvanceFlag',\n",
       " 'Link_CUSTOMER',\n",
       " 'Link_CUSTOMERKey',\n",
       " 'Link_BRANCH',\n",
       " 'Link_BRANCHKey',\n",
       " 'Link_TARGETPROD',\n",
       " 'Link_TARGETPRODKey',\n",
       " 'Link_OTBRANCH',\n",
       " 'Link_OTBRANCHKey',\n",
       " 'Link_SUBBU',\n",
       " 'Link_SUBBUKey',\n",
       " 'Link_SBU',\n",
       " 'Link_SBUKey',\n",
       " 'Link_PRODUCT',\n",
       " 'Link_PRODUCTKey',\n",
       " 'Link_SALESPER',\n",
       " 'Link_SALESPERKey',\n",
       " 'Link_PROJECT',\n",
       " 'Link_PROJECTKey',\n",
       " 'Category',\n",
       " 'Due_NotDue',\n",
       " 'DocumentSubmissionDate',\n",
       " 'EndDate',\n",
       " 'today',\n",
       " 'USDExchangeRate',\n",
       " 'AUDExchangeRate',\n",
       " 'EURExchangeRate',\n",
       " 'CHFExchangeRate',\n",
       " 'GBPExchangeRate']"
      ]
     },
     "execution_count": 11,
     "metadata": {},
     "output_type": "execute_result"
    }
   ],
   "source": [
    "df.columns"
   ]
  },
  {
   "cell_type": "code",
   "execution_count": 12,
   "id": "e003fce6-f9d1-4bca-8355-fff7838cd0d5",
   "metadata": {},
   "outputs": [],
   "source": [
    "# here im sorted the columns\n",
    "sorted_columns = sorted(df.columns)\n",
    "\n",
    "# Select the columns in the sorted order\n",
    "df = df.select(*[col(column) for column in sorted_columns])"
   ]
  },
  {
   "cell_type": "code",
   "execution_count": 13,
   "id": "1f6df986-ed13-47a7-af0d-3ee43470f41a",
   "metadata": {},
   "outputs": [],
   "source": [
    "# CLE_Posting_Date\n",
    "# DocumentSubmissionDate\n",
    "# Due_Date\n",
    "# Due_NotDue\n",
    "# EndDate\n",
    "# ExpectedCollectionDate\n",
    "# Link_Date\n",
    "# NOD_AR_Due_Date\n",
    "# NOD_AR_Posting_Date\n",
    "# NOD_AR_TargetDate\n",
    "# TargetDate"
   ]
  },
  {
   "cell_type": "code",
   "execution_count": 14,
   "id": "30f761f0-1732-47cb-acb7-ccb9f71053bf",
   "metadata": {},
   "outputs": [
    {
     "data": {
      "text/plain": [
       "['AR_AP_Type',\n",
       " 'AUDExchangeRate',\n",
       " 'AdvanceCollection',\n",
       " 'AdvanceFlag',\n",
       " 'Bucket_Sort',\n",
       " 'CHFExchangeRate',\n",
       " 'CLE_No',\n",
       " 'CLE_Posting_Date',\n",
       " 'Category',\n",
       " 'Collectable_Bucket_Sort',\n",
       " 'Collectable_Interval',\n",
       " 'Collectable_NOD',\n",
       " 'CollectionInvoiceNo',\n",
       " 'CurrencyCode',\n",
       " 'DimensionSetID',\n",
       " 'DocumentSubmissionDate',\n",
       " 'DocumentType',\n",
       " 'Document_No',\n",
       " 'Due_Date',\n",
       " 'Due_NotDue',\n",
       " 'EURExchangeRate',\n",
       " 'EndDate',\n",
       " 'ExpectedCollectionDate',\n",
       " 'ExternalDocumentNo',\n",
       " 'GBPExchangeRate',\n",
       " 'Interval',\n",
       " 'LinkCustomer',\n",
       " 'LinkSalesPerson',\n",
       " 'Link_BRANCH',\n",
       " 'Link_BRANCHKey',\n",
       " 'Link_CUSTOMER',\n",
       " 'Link_CUSTOMERKey',\n",
       " 'Link_Date',\n",
       " 'Link_OTBRANCH',\n",
       " 'Link_OTBRANCHKey',\n",
       " 'Link_PRODUCT',\n",
       " 'Link_PRODUCTKey',\n",
       " 'Link_PROJECT',\n",
       " 'Link_PROJECTKey',\n",
       " 'Link_SALESPER',\n",
       " 'Link_SALESPERKey',\n",
       " 'Link_SBU',\n",
       " 'Link_SBUKey',\n",
       " 'Link_SUBBU',\n",
       " 'Link_SUBBUKey',\n",
       " 'Link_TARGETPROD',\n",
       " 'Link_TARGETPRODKey',\n",
       " 'NOD',\n",
       " 'NOD_AR_Due_Date',\n",
       " 'NOD_AR_Posting_Date',\n",
       " 'NOD_AR_TargetDate',\n",
       " 'OriginalCurrencyFactor',\n",
       " 'Original_Amount',\n",
       " 'PaymentDelayReason',\n",
       " 'PaymentShortReason',\n",
       " 'PaymentTermsCode',\n",
       " 'Remaining_Amount',\n",
       " 'Ship-toName',\n",
       " 'TargetDate',\n",
       " 'TempCLE_No',\n",
       " 'TransactionType',\n",
       " 'USDExchangeRate',\n",
       " 'today']"
      ]
     },
     "execution_count": 14,
     "metadata": {},
     "output_type": "execute_result"
    }
   ],
   "source": [
    "df.columns"
   ]
  },
  {
   "cell_type": "code",
   "execution_count": 15,
   "id": "d1ec67c0-5266-4244-9c40-28c0e7a89360",
   "metadata": {},
   "outputs": [],
   "source": [
    "# CLE_Posting_Date\n",
    "# DocumentSubmissionDate\n",
    "# Due_Date\n",
    "# Due_NotDue\n",
    "# EndDate\n",
    "# ExpectedCollectionDate\n",
    "# Link_Date\n",
    "# NOD_AR_Due_Date\n",
    "# NOD_AR_Posting_Date\n",
    "# NOD_AR_TargetDate\n",
    "# TargetDate"
   ]
  },
  {
   "cell_type": "code",
   "execution_count": 16,
   "id": "6bdcae88-a052-4a7e-95f6-b05bb8f57bc0",
   "metadata": {},
   "outputs": [],
   "source": [
    "selected_columns = df.select(\"CLE_Posting_Date\", \"DocumentSubmissionDate\",\"Due_Date\",\"EndDate\",\"ExpectedCollectionDate\",\"Link_Date\",\"TargetDate\")"
   ]
  },
  {
   "cell_type": "code",
   "execution_count": 17,
   "id": "e4233105-d056-462c-992a-f3304653492b",
   "metadata": {},
   "outputs": [
    {
     "name": "stdout",
     "output_type": "stream",
     "text": [
      "root\n",
      " |-- CLE_Posting_Date: timestamp (nullable = true)\n",
      " |-- DocumentSubmissionDate: string (nullable = true)\n",
      " |-- Due_Date: date (nullable = true)\n",
      " |-- EndDate: timestamp (nullable = true)\n",
      " |-- ExpectedCollectionDate: string (nullable = true)\n",
      " |-- Link_Date: date (nullable = true)\n",
      " |-- TargetDate: string (nullable = true)\n",
      "\n"
     ]
    }
   ],
   "source": [
    "selected_columns.printSchema()"
   ]
  },
  {
   "cell_type": "code",
   "execution_count": 18,
   "id": "8459b482-31df-4499-b591-32e7340fb254",
   "metadata": {},
   "outputs": [],
   "source": [
    "from pyspark.sql.types import TimestampType,DateType\n"
   ]
  },
  {
   "cell_type": "code",
   "execution_count": 19,
   "id": "55070ab7-d9e2-4718-8df1-2bc0b2d24b77",
   "metadata": {},
   "outputs": [],
   "source": [
    "df = df.withColumn(\"DocumentSubmissionDate\", unix_timestamp(\"DocumentSubmissionDate\", \"yyyy-MM-dd HH:mm:ss\").cast(TimestampType()))\n"
   ]
  },
  {
   "cell_type": "code",
   "execution_count": 20,
   "id": "705eb0b9-ddb6-4258-bfe9-c165dd5f5ea1",
   "metadata": {},
   "outputs": [],
   "source": [
    "df = df.withColumn(\"ExpectedCollectionDate\", unix_timestamp(\"ExpectedCollectionDate\", \"yyyy-MM-dd HH:mm:ss\").cast(TimestampType()))\n"
   ]
  },
  {
   "cell_type": "code",
   "execution_count": 21,
   "id": "dd563f3a-4a93-4a0d-a22e-db05febcd83f",
   "metadata": {},
   "outputs": [],
   "source": [
    "# df = df.withColumn(\"TargetDate\", col(\"TargetDate\").cast(DateType()))\n",
    "df = df.withColumn(\"TargetDate\", to_date(col(\"TargetDate\"), 'yyyy-MM-dd').cast(DateType()))\n"
   ]
  },
  {
   "cell_type": "code",
   "execution_count": 22,
   "id": "5eec5b3d-a82d-461c-936d-2e1a58290908",
   "metadata": {},
   "outputs": [],
   "source": [
    "selected_columns1 = df.select(\"NOD_AR_Due_Date\",\"NOD_AR_Posting_Date\",\"NOD_AR_TargetDate\",\"ExpectedCollectionDate\")"
   ]
  },
  {
   "cell_type": "code",
   "execution_count": 23,
   "id": "0277080e-677f-4e1c-b8a2-3b8d85f36b6c",
   "metadata": {},
   "outputs": [
    {
     "name": "stdout",
     "output_type": "stream",
     "text": [
      "+---------------+-------------------+-----------------+----------------------+\n",
      "|NOD_AR_Due_Date|NOD_AR_Posting_Date|NOD_AR_TargetDate|ExpectedCollectionDate|\n",
      "+---------------+-------------------+-----------------+----------------------+\n",
      "|            513|                543|            44771|   2024-07-31 00:00:00|\n",
      "|            436|                466|            44771|   2023-11-22 00:00:00|\n",
      "|            449|                452|            44771|   2024-03-29 00:00:00|\n",
      "|            358|                388|            44771|   2023-05-26 00:00:00|\n",
      "|            190|                220|            44771|   2023-11-20 00:00:00|\n",
      "|            155|                185|            44771|   2023-11-20 00:00:00|\n",
      "|             57|                 60|            44771|   2023-11-22 00:00:00|\n",
      "|             56|                 59|            44771|   2023-11-20 00:00:00|\n",
      "|             56|                 59|            44771|   2023-11-22 00:00:00|\n",
      "|             42|                 45|            44771|   2023-11-20 00:00:00|\n",
      "|             10|                 13|            44771|   2023-11-20 00:00:00|\n",
      "|            -28|                  2|            44771|   2023-09-05 00:00:00|\n",
      "|             38|                 41|            44771|   2023-11-22 00:00:00|\n",
      "|             34|                 37|            44771|   2023-11-22 00:00:00|\n",
      "|             41|                 44|            44771|   2023-05-26 00:00:00|\n",
      "|            -22|                  8|            44771|   2023-11-22 00:00:00|\n",
      "|            174|                174|               -1|                  NULL|\n",
      "|             42|                 45|            44771|   2023-11-22 00:00:00|\n",
      "|             42|                 45|            44771|   2023-05-25 00:00:00|\n",
      "|            452|                452|               -1|                  NULL|\n",
      "+---------------+-------------------+-----------------+----------------------+\n",
      "only showing top 20 rows\n",
      "\n"
     ]
    }
   ],
   "source": [
    "selected_columns1.show()"
   ]
  },
  {
   "cell_type": "code",
   "execution_count": 24,
   "id": "38fb0605-c468-47fc-8ff3-612375a52bf0",
   "metadata": {},
   "outputs": [
    {
     "data": {
      "text/plain": [
       "374342"
      ]
     },
     "execution_count": 24,
     "metadata": {},
     "output_type": "execute_result"
    }
   ],
   "source": [
    "df.count()"
   ]
  },
  {
   "cell_type": "code",
   "execution_count": 25,
   "id": "91e51e2b-7153-4875-ae19-0e0a70e0be04",
   "metadata": {},
   "outputs": [
    {
     "name": "stdout",
     "output_type": "stream",
     "text": [
      "root\n",
      " |-- CLE_Posting_Date: timestamp (nullable = true)\n",
      " |-- DocumentSubmissionDate: timestamp (nullable = true)\n",
      " |-- Due_Date: date (nullable = true)\n",
      " |-- EndDate: timestamp (nullable = true)\n",
      " |-- ExpectedCollectionDate: timestamp (nullable = true)\n",
      " |-- Link_Date: date (nullable = true)\n",
      " |-- TargetDate: date (nullable = true)\n",
      "\n"
     ]
    }
   ],
   "source": [
    "selected_columns = df.select(\"CLE_Posting_Date\", \"DocumentSubmissionDate\",\"Due_Date\",\"EndDate\",\"ExpectedCollectionDate\",\"Link_Date\",\"TargetDate\")\n",
    "selected_columns.printSchema()"
   ]
  },
  {
   "cell_type": "code",
   "execution_count": 26,
   "id": "851a7a38-225f-4b12-b90f-e70b0b8eb895",
   "metadata": {},
   "outputs": [],
   "source": [
    "filtered_dates = df.filter(year(\"CLE_Posting_Date\") < 1900).select(\"CLE_Posting_Date\")\n"
   ]
  },
  {
   "cell_type": "code",
   "execution_count": 27,
   "id": "13532fcb-7d7c-4013-97dc-7ee5c40f44db",
   "metadata": {},
   "outputs": [
    {
     "name": "stdout",
     "output_type": "stream",
     "text": [
      "+----------------+\n",
      "|CLE_Posting_Date|\n",
      "+----------------+\n",
      "+----------------+\n",
      "\n"
     ]
    }
   ],
   "source": [
    "filtered_dates.show()"
   ]
  },
  {
   "cell_type": "code",
   "execution_count": 28,
   "id": "ba90f378-f41a-410e-b342-745165097eb4",
   "metadata": {},
   "outputs": [],
   "source": [
    "df = df.withColumn(\n",
    "    \"TargetDate\",\n",
    "    when(year(\"TargetDate\") < 1900, expr(\"date_add(TargetDate, 365)\")).otherwise(col(\"TargetDate\"))\n",
    ")"
   ]
  },
  {
   "cell_type": "code",
   "execution_count": 29,
   "id": "f4d61def-2248-457d-a785-d737ef65df26",
   "metadata": {},
   "outputs": [],
   "source": [
    "df = df.withColumn(\n",
    "    \"ExpectedCollectionDate\",\n",
    "    expr(\"timestamp(concat('1900', substring(ExpectedCollectionDate, 5)))\")\n",
    ")"
   ]
  },
  {
   "cell_type": "code",
   "execution_count": 30,
   "id": "cd46aa69-c89b-4aeb-9e77-178cb1d36ca9",
   "metadata": {},
   "outputs": [],
   "source": [
    "filtered_dates = df.filter(year(\"ExpectedCollectionDate\") < 1900).select(\"ExpectedCollectionDate\")\n"
   ]
  },
  {
   "cell_type": "code",
   "execution_count": 31,
   "id": "9ce77085-efcf-4741-a0fe-6311f2749d0b",
   "metadata": {},
   "outputs": [
    {
     "name": "stdout",
     "output_type": "stream",
     "text": [
      "+----------------------+\n",
      "|ExpectedCollectionDate|\n",
      "+----------------------+\n",
      "+----------------------+\n",
      "\n"
     ]
    }
   ],
   "source": [
    "filtered_dates.show()"
   ]
  },
  {
   "cell_type": "code",
   "execution_count": null,
   "id": "0ff18ad0-fd6c-430a-9ada-a26b88eae60d",
   "metadata": {},
   "outputs": [],
   "source": []
  }
 ],
 "metadata": {
  "kernelspec": {
   "display_name": "Python 3 (ipykernel)",
   "language": "python",
   "name": "python3"
  },
  "language_info": {
   "codemirror_mode": {
    "name": "ipython",
    "version": 3
   },
   "file_extension": ".py",
   "mimetype": "text/x-python",
   "name": "python",
   "nbconvert_exporter": "python",
   "pygments_lexer": "ipython3",
   "version": "3.11.7"
  }
 },
 "nbformat": 4,
 "nbformat_minor": 5
}
